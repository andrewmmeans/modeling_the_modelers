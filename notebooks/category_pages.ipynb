{
 "cells": [
  {
   "cell_type": "code",
   "execution_count": 12,
   "metadata": {},
   "outputs": [],
   "source": [
    "from bs4 import BeautifulSoup\n",
    "import os\n",
    "import re\n",
    "import requests"
   ]
  },
  {
   "cell_type": "code",
   "execution_count": 7,
   "metadata": {},
   "outputs": [],
   "source": [
    "with open('../data/category_urls.txt') as f:\n",
    "    category_urls = f.readlines()    "
   ]
  },
  {
   "cell_type": "code",
   "execution_count": 8,
   "metadata": {},
   "outputs": [],
   "source": [
    "category_urls = [url[:-1] for url in category_urls]"
   ]
  },
  {
   "cell_type": "code",
   "execution_count": 10,
   "metadata": {},
   "outputs": [],
   "source": [
    "single_category = category_urls[0]"
   ]
  },
  {
   "cell_type": "code",
   "execution_count": 43,
   "metadata": {},
   "outputs": [],
   "source": [
    "def parse_category_for_pages(category):\n",
    "    response = requests.get(category)\n",
    "    soup = BeautifulSoup(response.content, 'html')\n",
    "    pagination = soup.findAll('ul', attrs={'class':'pagination'})[0]\n",
    "    try:\n",
    "        pages_to_scrape = int(list(pagination.find_all('li'))[3].text)\n",
    "    except:\n",
    "        pages_to_scrape = 0\n",
    "    return {category: pages_to_scrape}"
   ]
  },
  {
   "cell_type": "code",
   "execution_count": 89,
   "metadata": {},
   "outputs": [],
   "source": [
    "def parse_category_for_pages_regex(category):\n",
    "    response = requests.get(category)\n",
    "    try:\n",
    "        pages_to_scrape = int(re.findall('<li>(\\d+)<', str(response.content))[0])\n",
    "    except:\n",
    "        pages_to_scrape = 0\n",
    "    return (category, pages_to_scrape)"
   ]
  },
  {
   "cell_type": "code",
   "execution_count": 57,
   "metadata": {},
   "outputs": [
    {
     "name": "stdout",
     "output_type": "stream",
     "text": [
      "5.32 s ± 202 ms per loop (mean ± std. dev. of 7 runs, 1 loop each)\n"
     ]
    }
   ],
   "source": [
    "%timeit parse_category_for_pages(single_category)"
   ]
  },
  {
   "cell_type": "code",
   "execution_count": 58,
   "metadata": {},
   "outputs": [
    {
     "name": "stdout",
     "output_type": "stream",
     "text": [
      "601 ms ± 173 ms per loop (mean ± std. dev. of 7 runs, 1 loop each)\n"
     ]
    }
   ],
   "source": [
    "%timeit parse_category_for_pages_regex(single_category)"
   ]
  },
  {
   "cell_type": "code",
   "execution_count": 59,
   "metadata": {},
   "outputs": [
    {
     "name": "stdout",
     "output_type": "stream",
     "text": [
      "{'https://www.cgtrader.com/3d-models/standard': 217}\n",
      "{'https://www.cgtrader.com/3d-models/jet': 198}\n",
      "{'https://www.cgtrader.com/3d-models/car': 981}\n",
      "{'https://www.cgtrader.com/3d-models/ship': 183}\n",
      "{'https://www.cgtrader.com/3d-models/luxury': 675}\n"
     ]
    }
   ],
   "source": [
    "for cat in category_urls[0:5]:\n",
    "    print(parse_category_for_pages_regex(cat))"
   ]
  },
  {
   "cell_type": "code",
   "execution_count": 90,
   "metadata": {},
   "outputs": [],
   "source": [
    "category_pages = []\n",
    "\n",
    "for cat in category_urls:\n",
    "    category_pages.append(parse_category_for_pages_regex(cat))"
   ]
  },
  {
   "cell_type": "code",
   "execution_count": 106,
   "metadata": {},
   "outputs": [],
   "source": [
    "sorted_categories_by_page_count = sorted(category_pages, key=lambda x: x[1], reverse=True)"
   ]
  },
  {
   "cell_type": "code",
   "execution_count": 87,
   "metadata": {},
   "outputs": [],
   "source": [
    "def format_url_pagination(url, page):\n",
    "    return f\"{url}?page={page}\""
   ]
  },
  {
   "cell_type": "code",
   "execution_count": 120,
   "metadata": {},
   "outputs": [],
   "source": [
    "def discover_true_page_count_per_category(url):\n",
    "    response = requests.get(url)\n",
    "    try:\n",
    "        true_max_page = int(re.findall('<li class=\"is-current\">(\\d+)<', response.text)[0])\n",
    "    except:\n",
    "        true_max_page = 0\n",
    "    cat_url = url.split('?')[0]\n",
    "    original_max_page = int(url.split('?')[1][5:])\n",
    "    return (cat_url, original_max_page, true_max_page)"
   ]
  },
  {
   "cell_type": "code",
   "execution_count": 107,
   "metadata": {},
   "outputs": [],
   "source": [
    "max_page_per_category_urls = list(map(lambda x: format_url_pagination(x[0], x[1]), sorted_categories_by_page_count))"
   ]
  },
  {
   "cell_type": "code",
   "execution_count": 124,
   "metadata": {},
   "outputs": [
    {
     "data": {
      "text/plain": [
       "['https://www.cgtrader.com/3d-models/furniture?page=3908',\n",
       " 'https://www.cgtrader.com/3d-models/interior?page=2991',\n",
       " 'https://www.cgtrader.com/3d-models/architectural?page=2412',\n",
       " 'https://www.cgtrader.com/3d-models/character?page=1810',\n",
       " 'https://www.cgtrader.com/3d-models/house?page=1769']"
      ]
     },
     "execution_count": 124,
     "metadata": {},
     "output_type": "execute_result"
    }
   ],
   "source": [
    "max_page_per_category_urls[0:5]"
   ]
  },
  {
   "cell_type": "code",
   "execution_count": 112,
   "metadata": {},
   "outputs": [],
   "source": [
    "single_max_page = max_page_per_category_urls[0]"
   ]
  },
  {
   "cell_type": "code",
   "execution_count": 113,
   "metadata": {},
   "outputs": [
    {
     "data": {
      "text/plain": [
       "'https://www.cgtrader.com/3d-models/furniture?page=3908'"
      ]
     },
     "execution_count": 113,
     "metadata": {},
     "output_type": "execute_result"
    }
   ],
   "source": [
    "single_max_page"
   ]
  },
  {
   "cell_type": "code",
   "execution_count": 125,
   "metadata": {},
   "outputs": [],
   "source": [
    "true_category_pages = []\n",
    "\n",
    "for cat in max_page_per_category_urls:\n",
    "    true_category_pages.append(discover_true_page_count_per_category(cat))"
   ]
  },
  {
   "cell_type": "markdown",
   "metadata": {},
   "source": [
    "I have a strong suspicion that cgtrader limits page views beyond 277 to only users that are registered and logged into their website. This would be a great move in reducing their exposure to scrapers."
   ]
  },
  {
   "cell_type": "code",
   "execution_count": 133,
   "metadata": {},
   "outputs": [],
   "source": [
    "import pickle"
   ]
  },
  {
   "cell_type": "code",
   "execution_count": 134,
   "metadata": {},
   "outputs": [],
   "source": [
    "with open('../data/cats_with_277_pages', 'wb') as f:\n",
    "    pickle.dump([(x[0], x[2]) for x in true_category_pages if x[2] == 277], f)"
   ]
  },
  {
   "cell_type": "code",
   "execution_count": 135,
   "metadata": {},
   "outputs": [],
   "source": [
    "with open('../data/cats_with_277_pages', 'rb') as f:\n",
    "    new_list = pickle.load(f)"
   ]
  },
  {
   "cell_type": "code",
   "execution_count": 137,
   "metadata": {},
   "outputs": [
    {
     "data": {
      "text/plain": [
       "[('https://www.cgtrader.com/3d-models/furniture', 277),\n",
       " ('https://www.cgtrader.com/3d-models/interior', 277),\n",
       " ('https://www.cgtrader.com/3d-models/architectural', 277),\n",
       " ('https://www.cgtrader.com/3d-models/character', 277),\n",
       " ('https://www.cgtrader.com/3d-models/house', 277),\n",
       " ('https://www.cgtrader.com/3d-models/exterior', 277),\n",
       " ('https://www.cgtrader.com/3d-models/modern', 277),\n",
       " ('https://www.cgtrader.com/3d-models/decoration', 277),\n",
       " ('https://www.cgtrader.com/3d-models/chair', 277),\n",
       " ('https://www.cgtrader.com/3d-models/car', 277)]"
      ]
     },
     "execution_count": 137,
     "metadata": {},
     "output_type": "execute_result"
    }
   ],
   "source": [
    "new_list[0:10]"
   ]
  },
  {
   "cell_type": "code",
   "execution_count": null,
   "metadata": {},
   "outputs": [],
   "source": []
  }
 ],
 "metadata": {
  "kernelspec": {
   "display_name": "Python 3",
   "language": "python",
   "name": "python3"
  },
  "language_info": {
   "codemirror_mode": {
    "name": "ipython",
    "version": 3
   },
   "file_extension": ".py",
   "mimetype": "text/x-python",
   "name": "python",
   "nbconvert_exporter": "python",
   "pygments_lexer": "ipython3",
   "version": "3.8.3"
  }
 },
 "nbformat": 4,
 "nbformat_minor": 4
}
