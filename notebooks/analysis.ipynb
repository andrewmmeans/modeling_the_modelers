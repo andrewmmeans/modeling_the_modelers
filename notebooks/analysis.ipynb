{
 "cells": [
  {
   "cell_type": "code",
   "execution_count": 115,
   "metadata": {},
   "outputs": [],
   "source": [
    "from sklearn.preprocessing import MinMaxScaler\n",
    "import matplotlib.pyplot as plt\n",
    "from collections import Counter\n",
    "import seaborn as sns\n",
    "import pandas as pd\n",
    "import numpy as np\n",
    "import pickle\n",
    "\n",
    "from pprint import pprint\n",
    "\n",
    "%matplotlib inline"
   ]
  },
  {
   "cell_type": "code",
   "execution_count": 40,
   "metadata": {},
   "outputs": [],
   "source": [
    "import os\n",
    "\n",
    "data_path = '/home/void/data/processed_files/'\n",
    "portable_path = r'D:\\data_science\\data\\\\'\n",
    "\n",
    "files = os.listdir(portable_path)\n",
    "files = [file for file in files if file.endswith('.pkl')]"
   ]
  },
  {
   "cell_type": "code",
   "execution_count": 41,
   "metadata": {},
   "outputs": [],
   "source": [
    "dfs = [pd.read_pickle(portable_path + file) for file in files]"
   ]
  },
  {
   "cell_type": "code",
   "execution_count": 42,
   "metadata": {},
   "outputs": [],
   "source": [
    "df = pd.concat(dfs)"
   ]
  },
  {
   "cell_type": "code",
   "execution_count": 43,
   "metadata": {},
   "outputs": [],
   "source": [
    "# helper funcs\n",
    "\n",
    "def convert_price(string):\n",
    "    return float(string[1:])\n",
    "\n",
    "def one_dim_scatterplot(data, ax, jitter=0.2, **options):\n",
    "    if jitter:\n",
    "        jitter = np.random.uniform(-jitter, jitter, size=data.shape)\n",
    "    else:\n",
    "        jitter = np.repeat(0.0, len(data))\n",
    "    ax.scatter(data, jitter, **options)\n",
    "    ax.yaxis.set_ticklabels([])\n",
    "    ax.set_ylim([-1, 1])\n",
    "    \n",
    "def emperical_distribution(x, data):\n",
    "    weight = 1.0 / len(data)\n",
    "    count = np.zeros(shape=len(x))\n",
    "    for datum in data:\n",
    "        count = count + np.array(x >= datum)\n",
    "    return weight * count"
   ]
  },
  {
   "cell_type": "code",
   "execution_count": null,
   "metadata": {},
   "outputs": [],
   "source": [
    "np.linsp"
   ]
  },
  {
   "cell_type": "code",
   "execution_count": 142,
   "metadata": {},
   "outputs": [
    {
     "data": {
      "text/plain": [
       "(array([3.920e+02, 1.114e+03, 2.080e+03, 2.121e+03, 4.566e+03, 2.586e+03,\n",
       "        2.289e+03, 2.353e+03, 4.754e+03, 2.208e+03, 2.312e+03, 2.361e+03,\n",
       "        9.740e+03, 3.041e+03, 2.230e+03, 5.220e+02, 5.500e+02, 1.430e+02,\n",
       "        7.200e+01, 4.800e+01, 1.160e+02, 5.100e+01, 3.800e+01, 3.500e+01,\n",
       "        3.000e+01, 4.400e+01, 1.300e+01, 2.300e+01, 6.000e+00, 3.500e+01,\n",
       "        1.200e+01, 6.000e+00, 8.000e+00, 5.000e+00, 2.000e+01, 1.000e+01,\n",
       "        1.100e+01, 1.000e+01, 0.000e+00, 3.000e+00, 3.000e+00, 5.000e+00,\n",
       "        8.000e+00, 1.000e+00, 1.000e+00, 6.000e+00, 1.000e+00, 0.000e+00,\n",
       "        1.000e+00, 1.000e+00, 0.000e+00, 0.000e+00, 0.000e+00, 0.000e+00,\n",
       "        0.000e+00, 0.000e+00, 0.000e+00, 0.000e+00, 2.000e+00, 0.000e+00,\n",
       "        0.000e+00, 1.000e+00, 1.000e+00, 0.000e+00, 0.000e+00, 0.000e+00,\n",
       "        0.000e+00, 0.000e+00, 0.000e+00, 0.000e+00, 0.000e+00, 0.000e+00,\n",
       "        0.000e+00, 4.000e+00, 0.000e+00, 2.000e+00, 0.000e+00, 0.000e+00,\n",
       "        1.000e+00, 1.000e+00, 0.000e+00, 1.000e+00, 0.000e+00, 0.000e+00,\n",
       "        0.000e+00, 0.000e+00, 0.000e+00, 0.000e+00, 1.000e+00, 0.000e+00,\n",
       "        0.000e+00, 0.000e+00, 0.000e+00, 0.000e+00, 0.000e+00, 0.000e+00,\n",
       "        0.000e+00, 0.000e+00, 0.000e+00, 1.000e+00]),\n",
       " array([ 0.69551886,  0.91112971,  1.12674056,  1.3423514 ,  1.55796225,\n",
       "         1.7735731 ,  1.98918394,  2.20479479,  2.42040564,  2.63601648,\n",
       "         2.85162733,  3.06723818,  3.28284902,  3.49845987,  3.71407072,\n",
       "         3.92968157,  4.14529241,  4.36090326,  4.57651411,  4.79212495,\n",
       "         5.0077358 ,  5.22334665,  5.43895749,  5.65456834,  5.87017919,\n",
       "         6.08579004,  6.30140088,  6.51701173,  6.73262258,  6.94823342,\n",
       "         7.16384427,  7.37945512,  7.59506596,  7.81067681,  8.02628766,\n",
       "         8.2418985 ,  8.45750935,  8.6731202 ,  8.88873105,  9.10434189,\n",
       "         9.31995274,  9.53556359,  9.75117443,  9.96678528, 10.18239613,\n",
       "        10.39800697, 10.61361782, 10.82922867, 11.04483952, 11.26045036,\n",
       "        11.47606121, 11.69167206, 11.9072829 , 12.12289375, 12.3385046 ,\n",
       "        12.55411544, 12.76972629, 12.98533714, 13.20094799, 13.41655883,\n",
       "        13.63216968, 13.84778053, 14.06339137, 14.27900222, 14.49461307,\n",
       "        14.71022391, 14.92583476, 15.14144561, 15.35705645, 15.5726673 ,\n",
       "        15.78827815, 16.003889  , 16.21949984, 16.43511069, 16.65072154,\n",
       "        16.86633238, 17.08194323, 17.29755408, 17.51316492, 17.72877577,\n",
       "        17.94438662, 18.15999747, 18.37560831, 18.59121916, 18.80683001,\n",
       "        19.02244085, 19.2380517 , 19.45366255, 19.66927339, 19.88488424,\n",
       "        20.10049509, 20.31610594, 20.53171678, 20.74732763, 20.96293848,\n",
       "        21.17854932, 21.39416017, 21.60977102, 21.82538186, 22.04099271,\n",
       "        22.25660356]),\n",
       " <a list of 100 Patch objects>)"
      ]
     },
     "execution_count": 142,
     "metadata": {},
     "output_type": "execute_result"
    },
    {
     "data": {
      "image/png": "[encoded data removed]",
      "text/plain": [
       "<Figure size 432x288 with 1 Axes>"
      ]
     },
     "metadata": {
      "needs_background": "light"
     },
     "output_type": "display_data"
    }
   ],
   "source": [
    "plt.hist(df.tag_count / df.tag_count.std(), bins=100)"
   ]
  },
  {
   "cell_type": "code",
   "execution_count": 135,
   "metadata": {},
   "outputs": [
    {
     "data": {
      "text/html": [
       "<div>\n",
       "<style scoped>\n",
       "    .dataframe tbody tr th:only-of-type {\n",
       "        vertical-align: middle;\n",
       "    }\n",
       "\n",
       "    .dataframe tbody tr th {\n",
       "        vertical-align: top;\n",
       "    }\n",
       "\n",
       "    .dataframe thead th {\n",
       "        text-align: right;\n",
       "    }\n",
       "</style>\n",
       "<table border=\"1\" class=\"dataframe\">\n",
       "  <thead>\n",
       "    <tr style=\"text-align: right;\">\n",
       "      <th></th>\n",
       "      <th>views</th>\n",
       "      <th>likes</th>\n",
       "      <th>review_count</th>\n",
       "      <th>pic_count</th>\n",
       "      <th>price_usd</th>\n",
       "      <th>tag_count</th>\n",
       "      <th>scaled_views</th>\n",
       "    </tr>\n",
       "  </thead>\n",
       "  <tbody>\n",
       "    <tr>\n",
       "      <th>count</th>\n",
       "      <td>46000.000000</td>\n",
       "      <td>46000.000000</td>\n",
       "      <td>46000.00000</td>\n",
       "      <td>46000.000000</td>\n",
       "      <td>46000.000000</td>\n",
       "      <td>46000.000000</td>\n",
       "      <td>46000.000000</td>\n",
       "    </tr>\n",
       "    <tr>\n",
       "      <th>mean</th>\n",
       "      <td>624.931022</td>\n",
       "      <td>1.788804</td>\n",
       "      <td>0.11750</td>\n",
       "      <td>9.887565</td>\n",
       "      <td>30.993735</td>\n",
       "      <td>15.504652</td>\n",
       "      <td>0.012728</td>\n",
       "    </tr>\n",
       "    <tr>\n",
       "      <th>std</th>\n",
       "      <td>1111.941527</td>\n",
       "      <td>6.916340</td>\n",
       "      <td>0.74735</td>\n",
       "      <td>13.146432</td>\n",
       "      <td>144.819785</td>\n",
       "      <td>5.751102</td>\n",
       "      <td>0.022646</td>\n",
       "    </tr>\n",
       "    <tr>\n",
       "      <th>min</th>\n",
       "      <td>0.000000</td>\n",
       "      <td>0.000000</td>\n",
       "      <td>0.00000</td>\n",
       "      <td>0.000000</td>\n",
       "      <td>2.000000</td>\n",
       "      <td>4.000000</td>\n",
       "      <td>0.000000</td>\n",
       "    </tr>\n",
       "    <tr>\n",
       "      <th>25%</th>\n",
       "      <td>65.000000</td>\n",
       "      <td>0.000000</td>\n",
       "      <td>0.00000</td>\n",
       "      <td>4.000000</td>\n",
       "      <td>7.000000</td>\n",
       "      <td>11.000000</td>\n",
       "      <td>0.001324</td>\n",
       "    </tr>\n",
       "    <tr>\n",
       "      <th>50%</th>\n",
       "      <td>267.000000</td>\n",
       "      <td>0.000000</td>\n",
       "      <td>0.00000</td>\n",
       "      <td>7.000000</td>\n",
       "      <td>14.480000</td>\n",
       "      <td>16.000000</td>\n",
       "      <td>0.005438</td>\n",
       "    </tr>\n",
       "    <tr>\n",
       "      <th>75%</th>\n",
       "      <td>753.000000</td>\n",
       "      <td>2.000000</td>\n",
       "      <td>0.00000</td>\n",
       "      <td>12.000000</td>\n",
       "      <td>29.000000</td>\n",
       "      <td>20.000000</td>\n",
       "      <td>0.015336</td>\n",
       "    </tr>\n",
       "    <tr>\n",
       "      <th>max</th>\n",
       "      <td>49100.000000</td>\n",
       "      <td>385.000000</td>\n",
       "      <td>56.00000</td>\n",
       "      <td>657.000000</td>\n",
       "      <td>10000.000000</td>\n",
       "      <td>128.000000</td>\n",
       "      <td>1.000000</td>\n",
       "    </tr>\n",
       "  </tbody>\n",
       "</table>\n",
       "</div>"
      ],
      "text/plain": [
       "              views         likes  review_count     pic_count     price_usd  \\\n",
       "count  46000.000000  46000.000000   46000.00000  46000.000000  46000.000000   \n",
       "mean     624.931022      1.788804       0.11750      9.887565     30.993735   \n",
       "std     1111.941527      6.916340       0.74735     13.146432    144.819785   \n",
       "min        0.000000      0.000000       0.00000      0.000000      2.000000   \n",
       "25%       65.000000      0.000000       0.00000      4.000000      7.000000   \n",
       "50%      267.000000      0.000000       0.00000      7.000000     14.480000   \n",
       "75%      753.000000      2.000000       0.00000     12.000000     29.000000   \n",
       "max    49100.000000    385.000000      56.00000    657.000000  10000.000000   \n",
       "\n",
       "          tag_count  scaled_views  \n",
       "count  46000.000000  46000.000000  \n",
       "mean      15.504652      0.012728  \n",
       "std        5.751102      0.022646  \n",
       "min        4.000000      0.000000  \n",
       "25%       11.000000      0.001324  \n",
       "50%       16.000000      0.005438  \n",
       "75%       20.000000      0.015336  \n",
       "max      128.000000      1.000000  "
      ]
     },
     "execution_count": 135,
     "metadata": {},
     "output_type": "execute_result"
    }
   ],
   "source": [
    "df.describe()"
   ]
  },
  {
   "cell_type": "code",
   "execution_count": null,
   "metadata": {},
   "outputs": [],
   "source": [
    "plt.loglog(df.tag_count)"
   ]
  },
  {
   "cell_type": "code",
   "execution_count": 138,
   "metadata": {},
   "outputs": [
    {
     "data": {
      "text/plain": [
       "15.504652173913044"
      ]
     },
     "execution_count": 138,
     "metadata": {},
     "output_type": "execute_result"
    }
   ],
   "source": [
    "np.mean(df.tag_count)"
   ]
  },
  {
   "cell_type": "code",
   "execution_count": 137,
   "metadata": {},
   "outputs": [
    {
     "data": {
      "text/plain": [
       "<matplotlib.axes._subplots.AxesSubplot at 0x29767bc6fa0>"
      ]
     },
     "execution_count": 137,
     "metadata": {},
     "output_type": "execute_result"
    },
    {
     "data": {
      "image/png": "[encoded data removed]",
      "text/plain": [
       "<Figure size 432x288 with 1 Axes>"
      ]
     },
     "metadata": {
      "needs_background": "light"
     },
     "output_type": "display_data"
    }
   ],
   "source": [
    "sns.distplot(df.tag_count)"
   ]
  },
  {
   "cell_type": "code",
   "execution_count": 136,
   "metadata": {},
   "outputs": [
    {
     "data": {
      "text/html": [
       "<div>\n",
       "<style scoped>\n",
       "    .dataframe tbody tr th:only-of-type {\n",
       "        vertical-align: middle;\n",
       "    }\n",
       "\n",
       "    .dataframe tbody tr th {\n",
       "        vertical-align: top;\n",
       "    }\n",
       "\n",
       "    .dataframe thead th {\n",
       "        text-align: right;\n",
       "    }\n",
       "</style>\n",
       "<table border=\"1\" class=\"dataframe\">\n",
       "  <thead>\n",
       "    <tr style=\"text-align: right;\">\n",
       "      <th></th>\n",
       "      <th>modeler</th>\n",
       "      <th>modeler_response</th>\n",
       "      <th>modeler_ratings</th>\n",
       "      <th>tags</th>\n",
       "      <th>views</th>\n",
       "      <th>likes</th>\n",
       "      <th>review_count</th>\n",
       "      <th>comments</th>\n",
       "      <th>price</th>\n",
       "      <th>pic_count</th>\n",
       "      <th>model_description</th>\n",
       "      <th>model_details</th>\n",
       "      <th>price_usd</th>\n",
       "      <th>tag_count</th>\n",
       "      <th>scaled_views</th>\n",
       "      <th>gt5</th>\n",
       "      <th>gt10</th>\n",
       "    </tr>\n",
       "  </thead>\n",
       "  <tbody>\n",
       "    <tr>\n",
       "      <th>0</th>\n",
       "      <td>Evermotion</td>\n",
       "      <td>{'percent': 69, 'time': '47.0h'}</td>\n",
       "      <td>{'avg_rating': 4.4, 'num_rating': 369}</td>\n",
       "      <td>[white, sink, basin, bathroom, home, inside, c...</td>\n",
       "      <td>1190</td>\n",
       "      <td>0</td>\n",
       "      <td>0</td>\n",
       "      <td>{'authors': [], 'texts': [], 'datetimes': []}</td>\n",
       "      <td>$12.07</td>\n",
       "      <td>1</td>\n",
       "      <td>Highly detailed model of bathroom sink with al...</td>\n",
       "      <td>{'model_id': '32979', 'geometry': '- ', 'polyg...</td>\n",
       "      <td>12.07</td>\n",
       "      <td>14</td>\n",
       "      <td>0.024236</td>\n",
       "      <td>True</td>\n",
       "      <td>True</td>\n",
       "    </tr>\n",
       "    <tr>\n",
       "      <th>1</th>\n",
       "      <td>DoanNguyen</td>\n",
       "      <td>{'percent': 42, 'time': '48.0h'}</td>\n",
       "      <td>{'avg_rating': 4.6, 'num_rating': 24}</td>\n",
       "      <td>[bed, bed collection 06, blanket, furnishing, ...</td>\n",
       "      <td>81</td>\n",
       "      <td>3</td>\n",
       "      <td>0</td>\n",
       "      <td>{'authors': ['ffluza'], 'texts': ['great!'], '...</td>\n",
       "      <td>$7.00</td>\n",
       "      <td>16</td>\n",
       "      <td>Bed collection 06</td>\n",
       "      <td>{'model_id': '2269193', 'geometry': 'Polygon m...</td>\n",
       "      <td>7.00</td>\n",
       "      <td>12</td>\n",
       "      <td>0.001650</td>\n",
       "      <td>True</td>\n",
       "      <td>True</td>\n",
       "    </tr>\n",
       "    <tr>\n",
       "      <th>2</th>\n",
       "      <td>kanhtart</td>\n",
       "      <td>{'percent': 15, 'time': '48.0h'}</td>\n",
       "      <td>{'avg_rating': 3.3, 'num_rating': 18}</td>\n",
       "      <td>[skyscraper, office, apartment, architectural,...</td>\n",
       "      <td>42</td>\n",
       "      <td>0</td>\n",
       "      <td>0</td>\n",
       "      <td>{'authors': [], 'texts': [], 'datetimes': []}</td>\n",
       "      <td>$80.00</td>\n",
       "      <td>2</td>\n",
       "      <td>High detailed 3d building. Previews were rende...</td>\n",
       "      <td>{'model_id': '2236791', 'geometry': '- ', 'pol...</td>\n",
       "      <td>80.00</td>\n",
       "      <td>14</td>\n",
       "      <td>0.000855</td>\n",
       "      <td>True</td>\n",
       "      <td>True</td>\n",
       "    </tr>\n",
       "    <tr>\n",
       "      <th>3</th>\n",
       "      <td>Panaristi</td>\n",
       "      <td>{'percent': 94, 'time': '25.5h'}</td>\n",
       "      <td>{'avg_rating': 5.0, 'num_rating': 189}</td>\n",
       "      <td>[army, british, priest, vehicle, military, tan...</td>\n",
       "      <td>3580</td>\n",
       "      <td>1</td>\n",
       "      <td>0</td>\n",
       "      <td>{'authors': [], 'texts': [], 'datetimes': []}</td>\n",
       "      <td>$119.00</td>\n",
       "      <td>16</td>\n",
       "      <td>M7 Priest - Anzio - A Troop - 22nd Battery - 2...</td>\n",
       "      <td>{'model_id': '10051', 'geometry': 'Polygon mes...</td>\n",
       "      <td>119.00</td>\n",
       "      <td>18</td>\n",
       "      <td>0.072912</td>\n",
       "      <td>True</td>\n",
       "      <td>True</td>\n",
       "    </tr>\n",
       "    <tr>\n",
       "      <th>4</th>\n",
       "      <td>interovisuals</td>\n",
       "      <td>{'percent': 0, 'time': '48.0h'}</td>\n",
       "      <td>{'avg_rating': 5.0, 'num_rating': 1}</td>\n",
       "      <td>[interior, design, furniture, room, accessory,...</td>\n",
       "      <td>321</td>\n",
       "      <td>0</td>\n",
       "      <td>0</td>\n",
       "      <td>{'authors': [], 'texts': [], 'datetimes': []}</td>\n",
       "      <td>$7.00</td>\n",
       "      <td>1</td>\n",
       "      <td>Model is very well crafted with attention to t...</td>\n",
       "      <td>{'model_id': '143583', 'geometry': 'Polygon me...</td>\n",
       "      <td>7.00</td>\n",
       "      <td>11</td>\n",
       "      <td>0.006538</td>\n",
       "      <td>True</td>\n",
       "      <td>True</td>\n",
       "    </tr>\n",
       "  </tbody>\n",
       "</table>\n",
       "</div>"
      ],
      "text/plain": [
       "         modeler                  modeler_response  \\\n",
       "0     Evermotion  {'percent': 69, 'time': '47.0h'}   \n",
       "1     DoanNguyen  {'percent': 42, 'time': '48.0h'}   \n",
       "2       kanhtart  {'percent': 15, 'time': '48.0h'}   \n",
       "3      Panaristi  {'percent': 94, 'time': '25.5h'}   \n",
       "4  interovisuals   {'percent': 0, 'time': '48.0h'}   \n",
       "\n",
       "                          modeler_ratings  \\\n",
       "0  {'avg_rating': 4.4, 'num_rating': 369}   \n",
       "1   {'avg_rating': 4.6, 'num_rating': 24}   \n",
       "2   {'avg_rating': 3.3, 'num_rating': 18}   \n",
       "3  {'avg_rating': 5.0, 'num_rating': 189}   \n",
       "4    {'avg_rating': 5.0, 'num_rating': 1}   \n",
       "\n",
       "                                                tags  views  likes  \\\n",
       "0  [white, sink, basin, bathroom, home, inside, c...   1190      0   \n",
       "1  [bed, bed collection 06, blanket, furnishing, ...     81      3   \n",
       "2  [skyscraper, office, apartment, architectural,...     42      0   \n",
       "3  [army, british, priest, vehicle, military, tan...   3580      1   \n",
       "4  [interior, design, furniture, room, accessory,...    321      0   \n",
       "\n",
       "   review_count                                           comments    price  \\\n",
       "0             0      {'authors': [], 'texts': [], 'datetimes': []}   $12.07   \n",
       "1             0  {'authors': ['ffluza'], 'texts': ['great!'], '...    $7.00   \n",
       "2             0      {'authors': [], 'texts': [], 'datetimes': []}   $80.00   \n",
       "3             0      {'authors': [], 'texts': [], 'datetimes': []}  $119.00   \n",
       "4             0      {'authors': [], 'texts': [], 'datetimes': []}    $7.00   \n",
       "\n",
       "   pic_count                                  model_description  \\\n",
       "0          1  Highly detailed model of bathroom sink with al...   \n",
       "1         16                                Bed collection 06     \n",
       "2          2  High detailed 3d building. Previews were rende...   \n",
       "3         16  M7 Priest - Anzio - A Troop - 22nd Battery - 2...   \n",
       "4          1  Model is very well crafted with attention to t...   \n",
       "\n",
       "                                       model_details  price_usd  tag_count  \\\n",
       "0  {'model_id': '32979', 'geometry': '- ', 'polyg...      12.07         14   \n",
       "1  {'model_id': '2269193', 'geometry': 'Polygon m...       7.00         12   \n",
       "2  {'model_id': '2236791', 'geometry': '- ', 'pol...      80.00         14   \n",
       "3  {'model_id': '10051', 'geometry': 'Polygon mes...     119.00         18   \n",
       "4  {'model_id': '143583', 'geometry': 'Polygon me...       7.00         11   \n",
       "\n",
       "   scaled_views   gt5  gt10  \n",
       "0      0.024236  True  True  \n",
       "1      0.001650  True  True  \n",
       "2      0.000855  True  True  \n",
       "3      0.072912  True  True  \n",
       "4      0.006538  True  True  "
      ]
     },
     "execution_count": 136,
     "metadata": {},
     "output_type": "execute_result"
    }
   ],
   "source": [
    "df.head()"
   ]
  },
  {
   "cell_type": "code",
   "execution_count": 49,
   "metadata": {},
   "outputs": [],
   "source": [
    "# create new columns\n",
    "df['price_usd'] = df.price.apply(convert_price)\n",
    "df['tag_count'] = df.tags.apply(len)"
   ]
  },
  {
   "cell_type": "code",
   "execution_count": 54,
   "metadata": {},
   "outputs": [],
   "source": [
    "scaler = MinMaxScaler() \n",
    "scaled_values = scaler.fit_transform(df.views.values.reshape(-1, 1)) \n",
    "df.loc[:, 'scaled_views'] = scaled_values"
   ]
  },
  {
   "cell_type": "code",
   "execution_count": null,
   "metadata": {},
   "outputs": [],
   "source": []
  },
  {
   "cell_type": "code",
   "execution_count": 94,
   "metadata": {},
   "outputs": [
    {
     "data": {
      "text/plain": [
       "(15.504652173913044, 16.0)"
      ]
     },
     "execution_count": 94,
     "metadata": {},
     "output_type": "execute_result"
    }
   ],
   "source": [
    "df['tag_count'].mean(), df['tag_count'].median()"
   ]
  },
  {
   "cell_type": "code",
   "execution_count": 101,
   "metadata": {},
   "outputs": [],
   "source": [
    "df['gt5'] = df['tag_count'].apply(lambda x: True if x > 5 else False)"
   ]
  },
  {
   "cell_type": "code",
   "execution_count": 97,
   "metadata": {},
   "outputs": [],
   "source": [
    "df['gt10'] = df['tag_count'].apply(lambda x: True if x > 10 else False)"
   ]
  },
  {
   "cell_type": "code",
   "execution_count": null,
   "metadata": {},
   "outputs": [],
   "source": []
  },
  {
   "cell_type": "code",
   "execution_count": 98,
   "metadata": {},
   "outputs": [
    {
     "data": {
      "text/plain": [
       "True     35727\n",
       "False    10273\n",
       "Name: gt10, dtype: int64"
      ]
     },
     "execution_count": 98,
     "metadata": {},
     "output_type": "execute_result"
    }
   ],
   "source": [
    "df['gt10'].value_counts()"
   ]
  },
  {
   "cell_type": "code",
   "execution_count": null,
   "metadata": {},
   "outputs": [],
   "source": []
  },
  {
   "cell_type": "code",
   "execution_count": 125,
   "metadata": {},
   "outputs": [
    {
     "name": "stdout",
     "output_type": "stream",
     "text": [
      "GT5\n",
      "              mean          std  <lambda_0>\n",
      "gt5                                       \n",
      "False  516.482143   810.686631    2.065439\n",
      "True   625.863138  1114.138566    0.024428\n",
      "GT10:\n",
      "              mean          std  <lambda_0>\n",
      "gt10                                      \n",
      "False  582.287647   934.919482    0.091003\n",
      "True   637.192767  1157.564594    0.032400\n"
     ]
    }
   ],
   "source": [
    "print('GT5\\n', df.groupby('gt5')['views'].agg([np.mean, np.std, lambda x: np.std(x)/len(x)]))\n",
    "print('GT10:\\n', df.groupby('gt10')['views'].agg([np.mean, np.std, lambda x: np.std(x)/len(x)]))"
   ]
  },
  {
   "cell_type": "code",
   "execution_count": 131,
   "metadata": {},
   "outputs": [
    {
     "name": "stdout",
     "output_type": "stream",
     "text": [
      "GT5\n",
      "            mean       std  <lambda_0>\n",
      "gt5                                  \n",
      "False  1.114796  3.002912    0.007651\n",
      "True   1.794597  6.940149    0.000152\n",
      "GT10:\n",
      "            mean       std  <lambda_0>\n",
      "gt10                                 \n",
      "False  1.130244  4.246468    0.000413\n",
      "True   1.978168  7.499708    0.000210\n"
     ]
    }
   ],
   "source": [
    "print('GT5\\n', df.groupby('gt5')['likes'].agg([np.mean, np.std, lambda x: np.std(x)/len(x)]))\n",
    "print('GT10:\\n', df.groupby('gt10')['likes'].agg([np.mean, np.std, lambda x: np.std(x)/len(x)]))"
   ]
  },
  {
   "cell_type": "code",
   "execution_count": 104,
   "metadata": {},
   "outputs": [
    {
     "data": {
      "text/plain": [
       "55"
      ]
     },
     "execution_count": 104,
     "metadata": {},
     "output_type": "execute_result"
    }
   ],
   "source": [
    "df.groupby('gt10')['views'].mean()\n",
    "\n",
    "637 - 582"
   ]
  },
  {
   "cell_type": "code",
   "execution_count": 56,
   "metadata": {},
   "outputs": [],
   "source": [
    "views_mean = df.views.mean()\n",
    "views_rate = 1. / views_mean"
   ]
  },
  {
   "cell_type": "code",
   "execution_count": null,
   "metadata": {},
   "outputs": [],
   "source": []
  },
  {
   "cell_type": "code",
   "execution_count": null,
   "metadata": {},
   "outputs": [],
   "source": [
    "views_x = np.linspace(0, df.views.max(), 1000)"
   ]
  },
  {
   "cell_type": "code",
   "execution_count": 5,
   "metadata": {},
   "outputs": [],
   "source": [
    "#normalized_df=(df-df.min())/(df.max()-df.min())"
   ]
  },
  {
   "cell_type": "code",
   "execution_count": 59,
   "metadata": {},
   "outputs": [
    {
     "data": {
      "image/png": "[encoded data removed]",
      "text/plain": [
       "<Figure size 720x360 with 2 Axes>"
      ]
     },
     "metadata": {
      "needs_background": "light"
     },
     "output_type": "display_data"
    }
   ],
   "source": [
    "fig, axs = plt.subplots(2, figsize=(10,5))\n",
    "\n",
    "one_dim_scatterplot(np.log(df.scaled_views), axs[0], alpha=0.2)\n",
    "one_dim_scatterplot(df.tag_count, axs[1], alpha=0.2)"
   ]
  },
  {
   "cell_type": "code",
   "execution_count": null,
   "metadata": {},
   "outputs": [],
   "source": []
  },
  {
   "cell_type": "code",
   "execution_count": 134,
   "metadata": {},
   "outputs": [
    {
     "data": {
      "text/plain": [
       "Text(0.5, 1.0, 'Distribution of Views')"
      ]
     },
     "execution_count": 134,
     "metadata": {},
     "output_type": "execute_result"
    },
    {
     "data": {
      "image/png": "[encoded data removed]",
      "text/plain": [
       "<Figure size 1440x720 with 1 Axes>"
      ]
     },
     "metadata": {
      "needs_background": "light"
     },
     "output_type": "display_data"
    }
   ],
   "source": [
    "fig, ax = plt.subplots(figsize=(20,10));\n",
    "\n",
    "sns.distplot(df[df['gt10'] == True].likes, bins=200, kde=True)\n",
    "\n",
    "ax.set_title(\"Distribution of Views\")"
   ]
  },
  {
   "cell_type": "code",
   "execution_count": 129,
   "metadata": {},
   "outputs": [
    {
     "data": {
      "image/png": "[encoded data removed]",
      "text/plain": [
       "<Figure size 1440x720 with 1 Axes>"
      ]
     },
     "metadata": {
      "needs_background": "light"
     },
     "output_type": "display_data"
    }
   ],
   "source": [
    "fig, ax = plt.subplots(figsize=(20,10));\n",
    "\n",
    "sns.distplot(df[df['gt5'] == False].views, bins=100, kde=True)\n",
    "\n",
    "ax.set_title(\"Distribution of Views\")\n",
    "ax.set_xlim(0, 2000);"
   ]
  },
  {
   "cell_type": "code",
   "execution_count": 39,
   "metadata": {},
   "outputs": [
    {
     "data": {
      "image/png": "[encoded data removed]",
      "text/plain": [
       "<Figure size 1440x720 with 1 Axes>"
      ]
     },
     "metadata": {
      "needs_background": "light"
     },
     "output_type": "display_data"
    }
   ],
   "source": [
    "fig, ax = plt.subplots(figsize=(20,10));\n",
    "\n",
    "sns.distplot(df.views, bins=100, kde=True)\n",
    "\n",
    "ax.set_title(\"Distribution of Views\")\n",
    "ax.set_xlim(0, 10000);"
   ]
  },
  {
   "cell_type": "code",
   "execution_count": 80,
   "metadata": {},
   "outputs": [
    {
     "data": {
      "text/plain": [
       "(array([1.000e+00, 2.000e+00, 4.000e+00, 1.200e+01, 1.500e+01, 3.600e+01,\n",
       "        9.200e+01, 1.850e+02, 3.210e+02, 6.160e+02, 9.410e+02, 1.519e+03,\n",
       "        2.303e+03, 3.241e+03, 4.232e+03, 5.309e+03, 6.419e+03, 7.300e+03,\n",
       "        7.684e+03, 8.240e+03, 8.030e+03, 7.627e+03, 7.040e+03, 6.310e+03,\n",
       "        5.379e+03, 4.283e+03, 3.455e+03, 2.553e+03, 2.059e+03, 1.502e+03,\n",
       "        1.013e+03, 8.010e+02, 5.200e+02, 3.320e+02, 2.280e+02, 1.520e+02,\n",
       "        8.400e+01, 7.100e+01, 4.400e+01, 2.000e+01, 1.000e+01, 2.000e+00,\n",
       "        5.000e+00, 2.000e+00, 1.000e+00, 4.000e+00, 0.000e+00, 0.000e+00,\n",
       "        0.000e+00, 1.000e+00]),\n",
       " array([481.92   , 488.92616, 495.93232, 502.93848, 509.94464, 516.9508 ,\n",
       "        523.95696, 530.96312, 537.96928, 544.97544, 551.9816 , 558.98776,\n",
       "        565.99392, 573.00008, 580.00624, 587.0124 , 594.01856, 601.02472,\n",
       "        608.03088, 615.03704, 622.0432 , 629.04936, 636.05552, 643.06168,\n",
       "        650.06784, 657.074  , 664.08016, 671.08632, 678.09248, 685.09864,\n",
       "        692.1048 , 699.11096, 706.11712, 713.12328, 720.12944, 727.1356 ,\n",
       "        734.14176, 741.14792, 748.15408, 755.16024, 762.1664 , 769.17256,\n",
       "        776.17872, 783.18488, 790.19104, 797.1972 , 804.20336, 811.20952,\n",
       "        818.21568, 825.22184, 832.228  ]),\n",
       " <a list of 50 Patch objects>)"
      ]
     },
     "execution_count": 80,
     "metadata": {},
     "output_type": "execute_result"
    },
    {
     "data": {
      "image/png": "[encoded data removed]",
      "text/plain": [
       "<Figure size 432x288 with 1 Axes>"
      ]
     },
     "metadata": {
      "needs_background": "light"
     },
     "output_type": "display_data"
    }
   ],
   "source": [
    "means = []\n",
    "for _ in range(10**5):\n",
    "    means.append(np.mean(df.views.sample(n=100)))\n",
    "    \n",
    "plt.hist(means, bins=50)"
   ]
  },
  {
   "cell_type": "code",
   "execution_count": 73,
   "metadata": {},
   "outputs": [
    {
     "data": {
      "text/plain": [
       "0      False\n",
       "1      False\n",
       "2      False\n",
       "3      False\n",
       "4      False\n",
       "       ...  \n",
       "995    False\n",
       "996    False\n",
       "997    False\n",
       "998    False\n",
       "999    False\n",
       "Name: tag_count, Length: 46000, dtype: bool"
      ]
     },
     "execution_count": 73,
     "metadata": {},
     "output_type": "execute_result"
    }
   ],
   "source": [
    "(df.tag_count <= 5)"
   ]
  },
  {
   "cell_type": "code",
   "execution_count": 66,
   "metadata": {},
   "outputs": [],
   "source": [
    "df.loc[(df.tag_count > 5).index, 'gt5'] = True\n",
    "df.loc[(df.tag_count <= 5).index, 'gt5'] = False"
   ]
  },
  {
   "cell_type": "code",
   "execution_count": 71,
   "metadata": {},
   "outputs": [
    {
     "data": {
      "text/plain": [
       "0      False\n",
       "1      False\n",
       "2      False\n",
       "3      False\n",
       "4      False\n",
       "       ...  \n",
       "995    False\n",
       "996    False\n",
       "997    False\n",
       "998    False\n",
       "999    False\n",
       "Name: gt5, Length: 46000, dtype: object"
      ]
     },
     "execution_count": 71,
     "metadata": {},
     "output_type": "execute_result"
    }
   ],
   "source": [
    "df.gt5"
   ]
  },
  {
   "cell_type": "code",
   "execution_count": 70,
   "metadata": {},
   "outputs": [
    {
     "data": {
      "text/plain": [
       "False    46000\n",
       "Name: gt5, dtype: int64"
      ]
     },
     "execution_count": 70,
     "metadata": {},
     "output_type": "execute_result"
    }
   ],
   "source": [
    "df.gt5.value_counts()"
   ]
  },
  {
   "cell_type": "code",
   "execution_count": 69,
   "metadata": {},
   "outputs": [
    {
     "data": {
      "text/plain": [
       "nan"
      ]
     },
     "execution_count": 69,
     "metadata": {},
     "output_type": "execute_result"
    }
   ],
   "source": [
    "df.where(df.gt5 == True)['views'].mean()"
   ]
  },
  {
   "cell_type": "code",
   "execution_count": null,
   "metadata": {},
   "outputs": [],
   "source": []
  },
  {
   "cell_type": "code",
   "execution_count": 24,
   "metadata": {},
   "outputs": [
    {
     "data": {
      "image/png": "[encoded data removed]",
      "text/plain": [
       "<Figure size 1440x720 with 1 Axes>"
      ]
     },
     "metadata": {
      "needs_background": "light"
     },
     "output_type": "display_data"
    }
   ],
   "source": [
    "fig, ax = plt.subplots(figsize=(20,10));\n",
    "\n",
    "sns.distplot(df.tag_count, bins=100)\n",
    "\n",
    "ax.set_title(\"Distribution of Tag Counts\")\n",
    "ax.set_xlim(0, 65);"
   ]
  },
  {
   "cell_type": "code",
   "execution_count": 7,
   "metadata": {},
   "outputs": [],
   "source": []
  },
  {
   "cell_type": "code",
   "execution_count": 8,
   "metadata": {},
   "outputs": [],
   "source": []
  },
  {
   "cell_type": "code",
   "execution_count": 9,
   "metadata": {},
   "outputs": [
    {
     "data": {
      "text/html": [
       "<div>\n",
       "<style scoped>\n",
       "    .dataframe tbody tr th:only-of-type {\n",
       "        vertical-align: middle;\n",
       "    }\n",
       "\n",
       "    .dataframe tbody tr th {\n",
       "        vertical-align: top;\n",
       "    }\n",
       "\n",
       "    .dataframe thead th {\n",
       "        text-align: right;\n",
       "    }\n",
       "</style>\n",
       "<table border=\"1\" class=\"dataframe\">\n",
       "  <thead>\n",
       "    <tr style=\"text-align: right;\">\n",
       "      <th></th>\n",
       "      <th>views</th>\n",
       "      <th>likes</th>\n",
       "      <th>review_count</th>\n",
       "      <th>pic_count</th>\n",
       "      <th>price_usd</th>\n",
       "    </tr>\n",
       "  </thead>\n",
       "  <tbody>\n",
       "    <tr>\n",
       "      <th>views</th>\n",
       "      <td>1.000000</td>\n",
       "      <td>0.516910</td>\n",
       "      <td>0.469539</td>\n",
       "      <td>0.059605</td>\n",
       "      <td>0.065457</td>\n",
       "    </tr>\n",
       "    <tr>\n",
       "      <th>likes</th>\n",
       "      <td>0.516910</td>\n",
       "      <td>1.000000</td>\n",
       "      <td>0.589192</td>\n",
       "      <td>0.118739</td>\n",
       "      <td>0.037523</td>\n",
       "    </tr>\n",
       "    <tr>\n",
       "      <th>review_count</th>\n",
       "      <td>0.469539</td>\n",
       "      <td>0.589192</td>\n",
       "      <td>1.000000</td>\n",
       "      <td>0.044165</td>\n",
       "      <td>0.003605</td>\n",
       "    </tr>\n",
       "    <tr>\n",
       "      <th>pic_count</th>\n",
       "      <td>0.059605</td>\n",
       "      <td>0.118739</td>\n",
       "      <td>0.044165</td>\n",
       "      <td>1.000000</td>\n",
       "      <td>0.077231</td>\n",
       "    </tr>\n",
       "    <tr>\n",
       "      <th>price_usd</th>\n",
       "      <td>0.065457</td>\n",
       "      <td>0.037523</td>\n",
       "      <td>0.003605</td>\n",
       "      <td>0.077231</td>\n",
       "      <td>1.000000</td>\n",
       "    </tr>\n",
       "  </tbody>\n",
       "</table>\n",
       "</div>"
      ],
      "text/plain": [
       "                 views     likes  review_count  pic_count  price_usd\n",
       "views         1.000000  0.516910      0.469539   0.059605   0.065457\n",
       "likes         0.516910  1.000000      0.589192   0.118739   0.037523\n",
       "review_count  0.469539  0.589192      1.000000   0.044165   0.003605\n",
       "pic_count     0.059605  0.118739      0.044165   1.000000   0.077231\n",
       "price_usd     0.065457  0.037523      0.003605   0.077231   1.000000"
      ]
     },
     "execution_count": 9,
     "metadata": {},
     "output_type": "execute_result"
    }
   ],
   "source": [
    "df.corr()"
   ]
  },
  {
   "cell_type": "code",
   "execution_count": 165,
   "metadata": {},
   "outputs": [
    {
     "data": {
      "text/plain": [
       "<matplotlib.axes._subplots.AxesSubplot at 0x7f455539eeb0>"
      ]
     },
     "execution_count": 165,
     "metadata": {},
     "output_type": "execute_result"
    },
    {
     "data": {
      "image/png": "[encoded data removed]",
      "text/plain": [
       "<Figure size 432x288 with 2 Axes>"
      ]
     },
     "metadata": {
      "needs_background": "light"
     },
     "output_type": "display_data"
    }
   ],
   "source": [
    "sns.heatmap(df.corr(), cmap=sns.cubehelix_palette(8, start=.5, rot=-.55))"
   ]
  },
  {
   "cell_type": "code",
   "execution_count": 205,
   "metadata": {},
   "outputs": [],
   "source": [
    "df['tag_count'] = df['tags'].agg(len)"
   ]
  },
  {
   "cell_type": "code",
   "execution_count": 208,
   "metadata": {},
   "outputs": [],
   "source": [
    "mean_price_by_num_tags = df.groupby('tag_count').agg(np.mean)['price_usd']"
   ]
  },
  {
   "cell_type": "code",
   "execution_count": 236,
   "metadata": {},
   "outputs": [],
   "source": [
    "df['tag_quantiles'] = pd.cut(df['tag_count'], df['tag_count'].quantile(np.linspace(0, 1, 10)))"
   ]
  },
  {
   "cell_type": "code",
   "execution_count": 237,
   "metadata": {},
   "outputs": [],
   "source": [
    "mean_price_by_tag_quantiles = df.groupby('tag_quantiles').agg(np.mean)['price_usd']"
   ]
  },
  {
   "cell_type": "code",
   "execution_count": 239,
   "metadata": {},
   "outputs": [
    {
     "data": {
      "image/png": "[encoded data removed]",
      "text/plain": [
       "<Figure size 1440x720 with 1 Axes>"
      ]
     },
     "metadata": {
      "needs_background": "light"
     },
     "output_type": "display_data"
    }
   ],
   "source": [
    "fig, ax = plt.subplots(figsize=(20,10))\n",
    "\n",
    "#num_tags_mean_price = num_tags_mean_price.sort_values(ascending=False)\n",
    "\n",
    "sns.barplot(mean_price_by_tag_quantiles.index, mean_price_by_tag_quantiles.values)\n",
    "ax.set_xticklabels(mean_price_by_tag_quantiles.index, rotation=45);"
   ]
  },
  {
   "cell_type": "code",
   "execution_count": 240,
   "metadata": {},
   "outputs": [
    {
     "data": {
      "image/png": "[encoded data removed]",
      "text/plain": [
       "<Figure size 1440x720 with 1 Axes>"
      ]
     },
     "metadata": {
      "needs_background": "light"
     },
     "output_type": "display_data"
    }
   ],
   "source": [
    "fig, ax = plt.subplots(figsize=(20,10))\n",
    "\n",
    "mean_views_by_tag_quantiles = df.groupby('tag_quantiles').agg(np.mean)['views']\n",
    "\n",
    "sns.barplot(mean_views_by_tag_quantiles.index, mean_views_by_tag_quantiles.values)\n",
    "ax.set_xticklabels(mean_views_by_tag_quantiles.index, rotation=45);"
   ]
  },
  {
   "cell_type": "code",
   "execution_count": 244,
   "metadata": {},
   "outputs": [
    {
     "data": {
      "image/png": "[encoded data removed]",
      "text/plain": [
       "<Figure size 1440x720 with 1 Axes>"
      ]
     },
     "metadata": {
      "needs_background": "light"
     },
     "output_type": "display_data"
    }
   ],
   "source": [
    "fig, ax = plt.subplots(figsize=(20,10))\n",
    "\n",
    "ax.set_title('Median View Count by Quantile')\n",
    "\n",
    "median_views_by_tag_quantiles = df.groupby('tag_quantiles').agg(np.median)['views']\n",
    "\n",
    "sns.barplot(median_views_by_tag_quantiles.index, median_views_by_tag_quantiles.values)\n",
    "ax.set_xticklabels(median_views_by_tag_quantiles.index, rotation=45);"
   ]
  },
  {
   "cell_type": "code",
   "execution_count": 213,
   "metadata": {},
   "outputs": [
    {
     "data": {
      "text/html": [
       "<div>\n",
       "<style scoped>\n",
       "    .dataframe tbody tr th:only-of-type {\n",
       "        vertical-align: middle;\n",
       "    }\n",
       "\n",
       "    .dataframe tbody tr th {\n",
       "        vertical-align: top;\n",
       "    }\n",
       "\n",
       "    .dataframe thead th {\n",
       "        text-align: right;\n",
       "    }\n",
       "</style>\n",
       "<table border=\"1\" class=\"dataframe\">\n",
       "  <thead>\n",
       "    <tr style=\"text-align: right;\">\n",
       "      <th></th>\n",
       "      <th>modeler</th>\n",
       "      <th>modeler_response</th>\n",
       "      <th>modeler_ratings</th>\n",
       "      <th>tags</th>\n",
       "      <th>views</th>\n",
       "      <th>likes</th>\n",
       "      <th>review_count</th>\n",
       "      <th>comments</th>\n",
       "      <th>price</th>\n",
       "      <th>pic_count</th>\n",
       "      <th>model_description</th>\n",
       "      <th>model_details</th>\n",
       "      <th>price_usd</th>\n",
       "      <th>tag_bins</th>\n",
       "      <th>tag_count</th>\n",
       "    </tr>\n",
       "  </thead>\n",
       "  <tbody>\n",
       "    <tr>\n",
       "      <th>654</th>\n",
       "      <td>frederictabary</td>\n",
       "      <td>{'percent': 33, 'time': '48.0h'}</td>\n",
       "      <td>{'avg_rating': 3.1, 'num_rating': 37}</td>\n",
       "      <td>[after, bed, agence, 3d, frédéric, tabary, bed...</td>\n",
       "      <td>547</td>\n",
       "      <td>0</td>\n",
       "      <td>0</td>\n",
       "      <td>{'authors': [], 'texts': [], 'datetimes': []}</td>\n",
       "      <td>$9.80</td>\n",
       "      <td>5</td>\n",
       "      <td>This 3D model was originally created with Sket...</td>\n",
       "      <td>{'model_id': '186174', 'geometry': '- ', 'poly...</td>\n",
       "      <td>9.80</td>\n",
       "      <td>(23.0, 27.5]</td>\n",
       "      <td>27</td>\n",
       "    </tr>\n",
       "    <tr>\n",
       "      <th>407</th>\n",
       "      <td>fabelar</td>\n",
       "      <td>{'percent': 96, 'time': '0.3h'}</td>\n",
       "      <td>{'avg_rating': 4.9, 'num_rating': 82}</td>\n",
       "      <td>[design, seat, relax, rest, standard, material...</td>\n",
       "      <td>925</td>\n",
       "      <td>0</td>\n",
       "      <td>0</td>\n",
       "      <td>{'authors': [], 'texts': [], 'datetimes': []}</td>\n",
       "      <td>$15.00</td>\n",
       "      <td>7</td>\n",
       "      <td>3D office chair. Vray materials and textures i...</td>\n",
       "      <td>{'model_id': '21916', 'geometry': 'Subdivision...</td>\n",
       "      <td>15.00</td>\n",
       "      <td>(23.0, 27.5]</td>\n",
       "      <td>27</td>\n",
       "    </tr>\n",
       "    <tr>\n",
       "      <th>427</th>\n",
       "      <td>Preto3d</td>\n",
       "      <td>{'percent': 13, 'time': '48.0h'}</td>\n",
       "      <td>{'avg_rating': 5.0, 'num_rating': 3}</td>\n",
       "      <td>[office, skyscraper, traffic, tree, metro, urb...</td>\n",
       "      <td>674</td>\n",
       "      <td>0</td>\n",
       "      <td>0</td>\n",
       "      <td>{'authors': [], 'texts': [], 'datetimes': []}</td>\n",
       "      <td>$35.00</td>\n",
       "      <td>1</td>\n",
       "      <td>3D model of a modern building.Take a look at t...</td>\n",
       "      <td>{'model_id': '113054', 'geometry': 'Polygon me...</td>\n",
       "      <td>35.00</td>\n",
       "      <td>(23.0, 27.5]</td>\n",
       "      <td>27</td>\n",
       "    </tr>\n",
       "    <tr>\n",
       "      <th>921</th>\n",
       "      <td>firdz3d</td>\n",
       "      <td>{'percent': 83, 'time': '3.4h'}</td>\n",
       "      <td>{'avg_rating': 3.7, 'num_rating': 79}</td>\n",
       "      <td>[bulb, incandescent, lamp, lighting, globe, el...</td>\n",
       "      <td>1770</td>\n",
       "      <td>1</td>\n",
       "      <td>0</td>\n",
       "      <td>{'authors': [], 'texts': [], 'datetimes': []}</td>\n",
       "      <td>$9.00</td>\n",
       "      <td>6</td>\n",
       "      <td>LIGHT BULB=========================- Modeled i...</td>\n",
       "      <td>{'model_id': '60479', 'geometry': 'Polygon mes...</td>\n",
       "      <td>9.00</td>\n",
       "      <td>(23.0, 27.5]</td>\n",
       "      <td>27</td>\n",
       "    </tr>\n",
       "    <tr>\n",
       "      <th>302</th>\n",
       "      <td>hum3d</td>\n",
       "      <td>{'percent': 27, 'time': '48.0h'}</td>\n",
       "      <td>{'avg_rating': 4.7, 'num_rating': 133}</td>\n",
       "      <td>[ashley, furniture, shay, bedroom, set, bulb, ...</td>\n",
       "      <td>905</td>\n",
       "      <td>0</td>\n",
       "      <td>0</td>\n",
       "      <td>{'authors': [], 'texts': [], 'datetimes': []}</td>\n",
       "      <td>$29.00</td>\n",
       "      <td>3</td>\n",
       "      <td>Ashley Shay Table Lamp - 3D model.This model i...</td>\n",
       "      <td>{'model_id': '26545', 'geometry': 'Polygon mes...</td>\n",
       "      <td>29.00</td>\n",
       "      <td>(23.0, 27.5]</td>\n",
       "      <td>27</td>\n",
       "    </tr>\n",
       "    <tr>\n",
       "      <th>553</th>\n",
       "      <td>fabelar</td>\n",
       "      <td>{'percent': 96, 'time': '0.3h'}</td>\n",
       "      <td>{'avg_rating': 4.9, 'num_rating': 82}</td>\n",
       "      <td>[stadium, arena, soccer, sport, field, buildin...</td>\n",
       "      <td>1070</td>\n",
       "      <td>3</td>\n",
       "      <td>0</td>\n",
       "      <td>{'authors': [], 'texts': [], 'datetimes': []}</td>\n",
       "      <td>$79.00</td>\n",
       "      <td>15</td>\n",
       "      <td>Stadium level 2 lowpoly 3D model. Vray, scanli...</td>\n",
       "      <td>{'model_id': '98914', 'geometry': 'Polygon mes...</td>\n",
       "      <td>79.00</td>\n",
       "      <td>(23.0, 27.5]</td>\n",
       "      <td>27</td>\n",
       "    </tr>\n",
       "    <tr>\n",
       "      <th>868</th>\n",
       "      <td>fabelar</td>\n",
       "      <td>{'percent': 96, 'time': '0.3h'}</td>\n",
       "      <td>{'avg_rating': 4.9, 'num_rating': 82}</td>\n",
       "      <td>[audi, s 1, sportback, car, concept, prototype...</td>\n",
       "      <td>1160</td>\n",
       "      <td>1</td>\n",
       "      <td>0</td>\n",
       "      <td>{'authors': [], 'texts': [], 'datetimes': []}</td>\n",
       "      <td>$65.00</td>\n",
       "      <td>12</td>\n",
       "      <td>Audi S1 Sportback rigged 3D model, Standard ma...</td>\n",
       "      <td>{'model_id': '71779', 'geometry': 'Subdivision...</td>\n",
       "      <td>65.00</td>\n",
       "      <td>(23.0, 27.5]</td>\n",
       "      <td>27</td>\n",
       "    </tr>\n",
       "    <tr>\n",
       "      <th>936</th>\n",
       "      <td>Preto3d</td>\n",
       "      <td>{'percent': 13, 'time': '48.0h'}</td>\n",
       "      <td>{'avg_rating': 5.0, 'num_rating': 3}</td>\n",
       "      <td>[office, skyscraper, traffic, tree, metro, urb...</td>\n",
       "      <td>553</td>\n",
       "      <td>0</td>\n",
       "      <td>0</td>\n",
       "      <td>{'authors': [], 'texts': [], 'datetimes': []}</td>\n",
       "      <td>$35.00</td>\n",
       "      <td>1</td>\n",
       "      <td>3D model of a modern building.Take a look at t...</td>\n",
       "      <td>{'model_id': '113939', 'geometry': 'Polygon me...</td>\n",
       "      <td>35.00</td>\n",
       "      <td>(23.0, 27.5]</td>\n",
       "      <td>27</td>\n",
       "    </tr>\n",
       "    <tr>\n",
       "      <th>123</th>\n",
       "      <td>StepanProkop</td>\n",
       "      <td>{'percent': 64, 'time': '7.1h'}</td>\n",
       "      <td>{'avg_rating': 4.4, 'num_rating': 25}</td>\n",
       "      <td>[alco, emd, sd 7, intercity, express, track, t...</td>\n",
       "      <td>1850</td>\n",
       "      <td>2</td>\n",
       "      <td>0</td>\n",
       "      <td>{'authors': [], 'texts': [], 'datetimes': []}</td>\n",
       "      <td>$49.00</td>\n",
       "      <td>4</td>\n",
       "      <td>lowpoly train with the low polygon count, but ...</td>\n",
       "      <td>{'model_id': '22703', 'geometry': 'Polygon mes...</td>\n",
       "      <td>49.00</td>\n",
       "      <td>(23.0, 27.5]</td>\n",
       "      <td>27</td>\n",
       "    </tr>\n",
       "    <tr>\n",
       "      <th>303</th>\n",
       "      <td>Polygonal-Miniatures</td>\n",
       "      <td>{'percent': 95, 'time': '0.3h'}</td>\n",
       "      <td>{'avg_rating': 5.0, 'num_rating': 550}</td>\n",
       "      <td>[clothing, female, girl, woman, fashion, virtu...</td>\n",
       "      <td>944</td>\n",
       "      <td>0</td>\n",
       "      <td>0</td>\n",
       "      <td>{'authors': [], 'texts': [], 'datetimes': []}</td>\n",
       "      <td>$19.95</td>\n",
       "      <td>5</td>\n",
       "      <td>Photorealistic ModelNormal &amp; Texture map avail...</td>\n",
       "      <td>{'model_id': '239840', 'geometry': 'Polygon me...</td>\n",
       "      <td>19.95</td>\n",
       "      <td>(23.0, 27.5]</td>\n",
       "      <td>27</td>\n",
       "    </tr>\n",
       "    <tr>\n",
       "      <th>903</th>\n",
       "      <td>kanhtart</td>\n",
       "      <td>{'percent': 15, 'time': '48.0h'}</td>\n",
       "      <td>{'avg_rating': 3.3, 'num_rating': 18}</td>\n",
       "      <td>[city, cityscape, building, metropolis, street...</td>\n",
       "      <td>1230</td>\n",
       "      <td>1</td>\n",
       "      <td>1</td>\n",
       "      <td>{'authors': [], 'texts': [], 'datetimes': []}</td>\n",
       "      <td>$98.00</td>\n",
       "      <td>2</td>\n",
       "      <td>Shopping Center 387 3D ModelsHousing Subdivisi...</td>\n",
       "      <td>{'model_id': '59043', 'geometry': '- ', 'polyg...</td>\n",
       "      <td>98.00</td>\n",
       "      <td>(23.0, 27.5]</td>\n",
       "      <td>27</td>\n",
       "    </tr>\n",
       "    <tr>\n",
       "      <th>924</th>\n",
       "      <td>3Dvarious</td>\n",
       "      <td>{'percent': 64, 'time': '19.5h'}</td>\n",
       "      <td>{'avg_rating': 3.3, 'num_rating': 3}</td>\n",
       "      <td>[boeing, 777 200, 777, 777f, 777 200f, airline...</td>\n",
       "      <td>1120</td>\n",
       "      <td>0</td>\n",
       "      <td>0</td>\n",
       "      <td>{'authors': [], 'texts': [], 'datetimes': []}</td>\n",
       "      <td>$200.00</td>\n",
       "      <td>19</td>\n",
       "      <td>Boeing 777-200F (Freighter) in Southern Air li...</td>\n",
       "      <td>{'model_id': '90737', 'geometry': 'Polygon mes...</td>\n",
       "      <td>200.00</td>\n",
       "      <td>(23.0, 27.5]</td>\n",
       "      <td>27</td>\n",
       "    </tr>\n",
       "  </tbody>\n",
       "</table>\n",
       "</div>"
      ],
      "text/plain": [
       "                  modeler                  modeler_response  \\\n",
       "654        frederictabary  {'percent': 33, 'time': '48.0h'}   \n",
       "407               fabelar   {'percent': 96, 'time': '0.3h'}   \n",
       "427               Preto3d  {'percent': 13, 'time': '48.0h'}   \n",
       "921               firdz3d   {'percent': 83, 'time': '3.4h'}   \n",
       "302                 hum3d  {'percent': 27, 'time': '48.0h'}   \n",
       "553               fabelar   {'percent': 96, 'time': '0.3h'}   \n",
       "868               fabelar   {'percent': 96, 'time': '0.3h'}   \n",
       "936               Preto3d  {'percent': 13, 'time': '48.0h'}   \n",
       "123          StepanProkop   {'percent': 64, 'time': '7.1h'}   \n",
       "303  Polygonal-Miniatures   {'percent': 95, 'time': '0.3h'}   \n",
       "903              kanhtart  {'percent': 15, 'time': '48.0h'}   \n",
       "924             3Dvarious  {'percent': 64, 'time': '19.5h'}   \n",
       "\n",
       "                            modeler_ratings  \\\n",
       "654   {'avg_rating': 3.1, 'num_rating': 37}   \n",
       "407   {'avg_rating': 4.9, 'num_rating': 82}   \n",
       "427    {'avg_rating': 5.0, 'num_rating': 3}   \n",
       "921   {'avg_rating': 3.7, 'num_rating': 79}   \n",
       "302  {'avg_rating': 4.7, 'num_rating': 133}   \n",
       "553   {'avg_rating': 4.9, 'num_rating': 82}   \n",
       "868   {'avg_rating': 4.9, 'num_rating': 82}   \n",
       "936    {'avg_rating': 5.0, 'num_rating': 3}   \n",
       "123   {'avg_rating': 4.4, 'num_rating': 25}   \n",
       "303  {'avg_rating': 5.0, 'num_rating': 550}   \n",
       "903   {'avg_rating': 3.3, 'num_rating': 18}   \n",
       "924    {'avg_rating': 3.3, 'num_rating': 3}   \n",
       "\n",
       "                                                  tags  views  likes  \\\n",
       "654  [after, bed, agence, 3d, frédéric, tabary, bed...    547      0   \n",
       "407  [design, seat, relax, rest, standard, material...    925      0   \n",
       "427  [office, skyscraper, traffic, tree, metro, urb...    674      0   \n",
       "921  [bulb, incandescent, lamp, lighting, globe, el...   1770      1   \n",
       "302  [ashley, furniture, shay, bedroom, set, bulb, ...    905      0   \n",
       "553  [stadium, arena, soccer, sport, field, buildin...   1070      3   \n",
       "868  [audi, s 1, sportback, car, concept, prototype...   1160      1   \n",
       "936  [office, skyscraper, traffic, tree, metro, urb...    553      0   \n",
       "123  [alco, emd, sd 7, intercity, express, track, t...   1850      2   \n",
       "303  [clothing, female, girl, woman, fashion, virtu...    944      0   \n",
       "903  [city, cityscape, building, metropolis, street...   1230      1   \n",
       "924  [boeing, 777 200, 777, 777f, 777 200f, airline...   1120      0   \n",
       "\n",
       "     review_count                                       comments    price  \\\n",
       "654             0  {'authors': [], 'texts': [], 'datetimes': []}    $9.80   \n",
       "407             0  {'authors': [], 'texts': [], 'datetimes': []}   $15.00   \n",
       "427             0  {'authors': [], 'texts': [], 'datetimes': []}   $35.00   \n",
       "921             0  {'authors': [], 'texts': [], 'datetimes': []}    $9.00   \n",
       "302             0  {'authors': [], 'texts': [], 'datetimes': []}   $29.00   \n",
       "553             0  {'authors': [], 'texts': [], 'datetimes': []}   $79.00   \n",
       "868             0  {'authors': [], 'texts': [], 'datetimes': []}   $65.00   \n",
       "936             0  {'authors': [], 'texts': [], 'datetimes': []}   $35.00   \n",
       "123             0  {'authors': [], 'texts': [], 'datetimes': []}   $49.00   \n",
       "303             0  {'authors': [], 'texts': [], 'datetimes': []}   $19.95   \n",
       "903             1  {'authors': [], 'texts': [], 'datetimes': []}   $98.00   \n",
       "924             0  {'authors': [], 'texts': [], 'datetimes': []}  $200.00   \n",
       "\n",
       "     pic_count                                  model_description  \\\n",
       "654          5  This 3D model was originally created with Sket...   \n",
       "407          7  3D office chair. Vray materials and textures i...   \n",
       "427          1  3D model of a modern building.Take a look at t...   \n",
       "921          6  LIGHT BULB=========================- Modeled i...   \n",
       "302          3  Ashley Shay Table Lamp - 3D model.This model i...   \n",
       "553         15  Stadium level 2 lowpoly 3D model. Vray, scanli...   \n",
       "868         12  Audi S1 Sportback rigged 3D model, Standard ma...   \n",
       "936          1  3D model of a modern building.Take a look at t...   \n",
       "123          4  lowpoly train with the low polygon count, but ...   \n",
       "303          5  Photorealistic ModelNormal & Texture map avail...   \n",
       "903          2  Shopping Center 387 3D ModelsHousing Subdivisi...   \n",
       "924         19  Boeing 777-200F (Freighter) in Southern Air li...   \n",
       "\n",
       "                                         model_details  price_usd  \\\n",
       "654  {'model_id': '186174', 'geometry': '- ', 'poly...       9.80   \n",
       "407  {'model_id': '21916', 'geometry': 'Subdivision...      15.00   \n",
       "427  {'model_id': '113054', 'geometry': 'Polygon me...      35.00   \n",
       "921  {'model_id': '60479', 'geometry': 'Polygon mes...       9.00   \n",
       "302  {'model_id': '26545', 'geometry': 'Polygon mes...      29.00   \n",
       "553  {'model_id': '98914', 'geometry': 'Polygon mes...      79.00   \n",
       "868  {'model_id': '71779', 'geometry': 'Subdivision...      65.00   \n",
       "936  {'model_id': '113939', 'geometry': 'Polygon me...      35.00   \n",
       "123  {'model_id': '22703', 'geometry': 'Polygon mes...      49.00   \n",
       "303  {'model_id': '239840', 'geometry': 'Polygon me...      19.95   \n",
       "903  {'model_id': '59043', 'geometry': '- ', 'polyg...      98.00   \n",
       "924  {'model_id': '90737', 'geometry': 'Polygon mes...     200.00   \n",
       "\n",
       "         tag_bins  tag_count  \n",
       "654  (23.0, 27.5]         27  \n",
       "407  (23.0, 27.5]         27  \n",
       "427  (23.0, 27.5]         27  \n",
       "921  (23.0, 27.5]         27  \n",
       "302  (23.0, 27.5]         27  \n",
       "553  (23.0, 27.5]         27  \n",
       "868  (23.0, 27.5]         27  \n",
       "936  (23.0, 27.5]         27  \n",
       "123  (23.0, 27.5]         27  \n",
       "303  (23.0, 27.5]         27  \n",
       "903  (23.0, 27.5]         27  \n",
       "924  (23.0, 27.5]         27  "
      ]
     },
     "execution_count": 213,
     "metadata": {},
     "output_type": "execute_result"
    }
   ],
   "source": [
    "df[df['tag_count'] >= ]"
   ]
  },
  {
   "cell_type": "code",
   "execution_count": null,
   "metadata": {},
   "outputs": [],
   "source": []
  },
  {
   "cell_type": "code",
   "execution_count": 211,
   "metadata": {},
   "outputs": [
    {
     "data": {
      "image/png": "[encoded data removed]",
      "text/plain": [
       "<Figure size 432x288 with 1 Axes>"
      ]
     },
     "metadata": {
      "needs_background": "light"
     },
     "output_type": "display_data"
    }
   ],
   "source": [
    "sns.distplot(df['tag_count']);"
   ]
  },
  {
   "cell_type": "code",
   "execution_count": 209,
   "metadata": {},
   "outputs": [
    {
     "data": {
      "image/png": "[encoded data removed]",
      "text/plain": [
       "<Figure size 1440x720 with 1 Axes>"
      ]
     },
     "metadata": {
      "needs_background": "light"
     },
     "output_type": "display_data"
    }
   ],
   "source": [
    "fig, ax = plt.subplots(figsize=(20,10))\n",
    "\n",
    "#num_tags_mean_price = num_tags_mean_price.sort_values(ascending=False)\n",
    "\n",
    "sns.barplot(mean_price_by_num_tags.index, mean_price_by_num_tags.values)\n",
    "ax.set_xticklabels(mean_price_by_num_tags.index, rotation=45);"
   ]
  },
  {
   "cell_type": "code",
   "execution_count": 201,
   "metadata": {},
   "outputs": [
    {
     "data": {
      "image/png": "[encoded data removed]",
      "text/plain": [
       "<Figure size 1440x720 with 1 Axes>"
      ]
     },
     "metadata": {
      "needs_background": "light"
     },
     "output_type": "display_data"
    }
   ],
   "source": [
    "df['tag_bins'] = pd.cut(df['tags'].agg(len), bins=20)\n",
    "\n",
    "num_tags_mean_price = df.groupby('tag_bins').mean()['price_usd']\n",
    "\n",
    "fig, ax = plt.subplots(figsize=(20,10))\n",
    "\n",
    "#num_tags_mean_price = num_tags_mean_price.sort_values(ascending=False)\n",
    "\n",
    "sns.barplot(num_tags_mean_price.index, num_tags_mean_price.values)\n",
    "ax.set_xticklabels(num_tags_mean_price.index, rotation=45);"
   ]
  },
  {
   "cell_type": "code",
   "execution_count": 202,
   "metadata": {},
   "outputs": [
    {
     "data": {
      "image/png": "[encoded data removed]",
      "text/plain": [
       "<Figure size 1440x720 with 1 Axes>"
      ]
     },
     "metadata": {
      "needs_background": "light"
     },
     "output_type": "display_data"
    }
   ],
   "source": [
    "num_tags_median_price = df.groupby('tag_bins').median()['price_usd']\n",
    "\n",
    "fig, ax = plt.subplots(figsize=(20,10))\n",
    "\n",
    "#num_tags_median_price = num_tags_median_price.sort_values(ascending=False)\n",
    "\n",
    "sns.barplot(num_tags_median_price.index, num_tags_median_price.values)\n",
    "ax.set_xticklabels(num_tags_median_price.index, rotation=45);"
   ]
  },
  {
   "cell_type": "code",
   "execution_count": 100,
   "metadata": {},
   "outputs": [],
   "source": [
    "groupby = df.groupby('modeler').count()"
   ]
  },
  {
   "cell_type": "code",
   "execution_count": 106,
   "metadata": {},
   "outputs": [
    {
     "data": {
      "text/plain": [
       "array([ 1,  2,  1,  1,  1,  1,  2,  1,  1,  1,  1,  2,  1,  1,  1,  1,  1,\n",
       "        1,  3,  1,  2,  4,  4,  3,  2,  1,  2,  1,  3,  1,  1,  1,  3,  1,\n",
       "        4,  1,  1,  2,  1,  1,  1,  1,  1,  2,  6,  2,  2,  1,  1,  1,  1,\n",
       "        1,  1,  1,  3,  1,  1,  2,  1,  1,  1,  1,  1,  1,  2,  1,  1,  1,\n",
       "        1,  1,  1,  1,  2,  1,  1,  2,  1,  1,  1,  1,  1,  1,  1,  3, 34,\n",
       "        1,  1,  3, 24,  1,  1,  1,  1,  2,  1,  1,  2,  1,  1,  7,  1,  1,\n",
       "        1,  1,  1,  1,  1,  4,  1,  1,  4,  1,  1,  1, 13,  1,  1,  1,  1,\n",
       "        1,  1,  1,  1,  1,  1,  1,  2,  1,  1,  1,  1,  1,  1,  1,  1,  1,\n",
       "        2,  1,  1,  1,  7,  1,  4,  1,  1,  1,  1,  1,  1,  1,  1,  1,  1,\n",
       "        2,  1,  1,  1,  1,  1,  2,  1,  1,  1,  3,  1,  1,  1,  1,  1,  1,\n",
       "        1,  2,  1,  1,  1,  1,  1,  1,  1,  1,  1,  1,  1,  2,  1,  1,  1,\n",
       "        1,  2,  1,  1,  1,  1,  1,  2,  1,  1,  1,  1,  1,  1,  1,  2,  1,\n",
       "        1,  2,  1,  1,  1,  1,  1,  1,  1,  1,  1,  1,  1,  1,  1,  1,  1,\n",
       "        1,  2,  1,  1,  1,  1,  1,  1,  1,  3,  1,  1,  1,  1,  1,  1,  1,\n",
       "        1,  1,  1,  1,  1,  2,  1,  2,  2,  1,  2,  2,  1,  4,  1,  8,  2,\n",
       "        1,  1,  1,  1,  1,  1,  1,  1,  1,  1,  1,  1,  1,  1,  1,  1,  3,\n",
       "        1,  1,  1,  1,  1,  3,  1,  1,  2,  1,  1,  2,  4,  2,  1,  1,  1,\n",
       "        2,  8,  1,  1,  1,  1,  1,  1,  1,  1,  1,  1,  1,  1,  1,  1,  1,\n",
       "        1,  1,  1,  2,  1,  1,  1,  1,  1,  2,  1,  1,  1,  2,  1,  1,  1,\n",
       "        5,  1,  1,  3,  1,  1,  1,  1,  1,  1,  1,  1,  1,  1,  1,  1,  2,\n",
       "        2,  1,  1,  1,  1,  3,  8,  6, 12,  1,  1,  1,  1,  2,  1,  1,  1,\n",
       "        1,  1,  1,  1,  1,  1,  1,  1,  1,  1,  1,  1,  1,  1,  1,  2,  1,\n",
       "        1,  1,  1,  1,  2,  1, 20,  1,  1,  1,  4,  1,  1,  2,  1,  1,  1,\n",
       "        1,  7,  2,  1,  1,  1,  1,  1,  1,  2,  1,  1,  1,  1,  1,  1,  3,\n",
       "        1,  1,  1,  1,  1,  1,  2,  1,  1,  1,  1,  1,  1,  1,  1,  3,  1,\n",
       "        1,  1,  1,  1,  1,  1,  2,  1,  1,  2,  1,  1,  2,  3,  1,  1,  1,\n",
       "        1,  1,  1,  1,  1,  1,  1,  1,  1,  1,  1,  1,  1,  1,  2,  1,  1,\n",
       "        1,  1,  1,  1,  2,  1,  1,  1,  1,  1,  1,  1,  1,  1,  1,  2,  1,\n",
       "        1,  1,  1,  1,  1,  1,  1,  1,  1,  1,  1,  1,  1,  9,  1,  1,  1,\n",
       "        1,  1,  1,  1,  3,  1,  1,  1,  1,  1,  1,  1,  1,  1,  1,  1,  1,\n",
       "        1,  1,  1,  2,  1,  1,  1,  2,  1,  1,  1,  1,  1,  1,  1,  1,  3,\n",
       "        1,  1,  2,  2,  1,  1,  2,  1,  1,  1,  1,  3,  1,  2,  1,  1,  1,\n",
       "        1,  1,  1,  1,  1,  3,  1,  1,  1,  1,  1,  1,  1,  1,  1,  1,  1,\n",
       "        1,  1,  1,  1,  1,  2,  1,  1,  1,  1,  1,  1,  1,  1,  1,  1,  1,\n",
       "        1,  1,  8,  1,  1,  1,  1,  1,  1,  1,  1,  1,  1,  1,  1,  1,  3,\n",
       "        1,  1,  1,  1,  1,  1,  1,  2,  1,  1,  1,  1,  1,  1,  1,  1,  1,\n",
       "        1,  1,  1,  1,  1,  5,  1,  3,  1,  2,  1,  1,  1,  1,  1,  1,  1,\n",
       "        1,  1,  1,  1,  1,  3,  1,  3,  1,  1,  1,  3,  1,  1,  1,  3,  1,\n",
       "        1,  2,  1,  1,  6,  5,  1,  2,  1,  2,  1,  1,  1,  2,  1,  4,  1,\n",
       "        1,  4,  1,  1,  1])"
      ]
     },
     "execution_count": 106,
     "metadata": {},
     "output_type": "execute_result"
    }
   ],
   "source": [
    "groupby['views'].values"
   ]
  },
  {
   "cell_type": "code",
   "execution_count": 107,
   "metadata": {},
   "outputs": [
    {
     "data": {
      "text/plain": [
       "array([1., 1.])"
      ]
     },
     "execution_count": 107,
     "metadata": {},
     "output_type": "execute_result"
    }
   ],
   "source": [
    "np.quantile(groupby['views'].values, q=[0.25, 0.75])"
   ]
  },
  {
   "cell_type": "code",
   "execution_count": 81,
   "metadata": {},
   "outputs": [],
   "source": [
    "df['num_models'] = pd.cut(groupby.count()['tags'], bins=4)"
   ]
  },
  {
   "cell_type": "code",
   "execution_count": 82,
   "metadata": {},
   "outputs": [
    {
     "data": {
      "text/plain": [
       "0      NaN\n",
       "1      NaN\n",
       "2      NaN\n",
       "3      NaN\n",
       "4      NaN\n",
       "      ... \n",
       "995    NaN\n",
       "996    NaN\n",
       "997    NaN\n",
       "998    NaN\n",
       "999    NaN\n",
       "Name: num_models, Length: 1000, dtype: category\n",
       "Categories (4, interval[float64]): [(0.967, 9.25] < (9.25, 17.5] < (17.5, 25.75] < (25.75, 34.0]]"
      ]
     },
     "execution_count": 82,
     "metadata": {},
     "output_type": "execute_result"
    }
   ],
   "source": [
    "df['num_models']"
   ]
  },
  {
   "cell_type": "code",
   "execution_count": 68,
   "metadata": {},
   "outputs": [
    {
     "data": {
      "text/html": [
       "<div>\n",
       "<style scoped>\n",
       "    .dataframe tbody tr th:only-of-type {\n",
       "        vertical-align: middle;\n",
       "    }\n",
       "\n",
       "    .dataframe tbody tr th {\n",
       "        vertical-align: top;\n",
       "    }\n",
       "\n",
       "    .dataframe thead th {\n",
       "        text-align: right;\n",
       "    }\n",
       "</style>\n",
       "<table border=\"1\" class=\"dataframe\">\n",
       "  <thead>\n",
       "    <tr style=\"text-align: right;\">\n",
       "      <th></th>\n",
       "      <th>views</th>\n",
       "      <th>likes</th>\n",
       "      <th>review_count</th>\n",
       "      <th>pic_count</th>\n",
       "      <th>num_tags</th>\n",
       "    </tr>\n",
       "    <tr>\n",
       "      <th>tag_bins</th>\n",
       "      <th></th>\n",
       "      <th></th>\n",
       "      <th></th>\n",
       "      <th></th>\n",
       "      <th></th>\n",
       "    </tr>\n",
       "  </thead>\n",
       "  <tbody>\n",
       "    <tr>\n",
       "      <th>(4.91, 9.5]</th>\n",
       "      <td>534.754601</td>\n",
       "      <td>0.926380</td>\n",
       "      <td>0.067485</td>\n",
       "      <td>5.766871</td>\n",
       "      <td>7.447853</td>\n",
       "    </tr>\n",
       "    <tr>\n",
       "      <th>(9.5, 14.0]</th>\n",
       "      <td>496.545455</td>\n",
       "      <td>1.138340</td>\n",
       "      <td>0.067194</td>\n",
       "      <td>8.249012</td>\n",
       "      <td>12.134387</td>\n",
       "    </tr>\n",
       "    <tr>\n",
       "      <th>(14.0, 18.5]</th>\n",
       "      <td>461.182692</td>\n",
       "      <td>1.500000</td>\n",
       "      <td>0.067308</td>\n",
       "      <td>11.822115</td>\n",
       "      <td>16.543269</td>\n",
       "    </tr>\n",
       "    <tr>\n",
       "      <th>(18.5, 23.0]</th>\n",
       "      <td>654.211594</td>\n",
       "      <td>2.031884</td>\n",
       "      <td>0.144928</td>\n",
       "      <td>12.382609</td>\n",
       "      <td>20.350725</td>\n",
       "    </tr>\n",
       "    <tr>\n",
       "      <th>(23.0, 27.5]</th>\n",
       "      <td>1168.250000</td>\n",
       "      <td>0.600000</td>\n",
       "      <td>0.050000</td>\n",
       "      <td>5.900000</td>\n",
       "      <td>25.300000</td>\n",
       "    </tr>\n",
       "    <tr>\n",
       "      <th>(27.5, 32.0]</th>\n",
       "      <td>2225.000000</td>\n",
       "      <td>1.285714</td>\n",
       "      <td>0.000000</td>\n",
       "      <td>7.714286</td>\n",
       "      <td>30.571429</td>\n",
       "    </tr>\n",
       "    <tr>\n",
       "      <th>(32.0, 36.5]</th>\n",
       "      <td>NaN</td>\n",
       "      <td>NaN</td>\n",
       "      <td>NaN</td>\n",
       "      <td>NaN</td>\n",
       "      <td>NaN</td>\n",
       "    </tr>\n",
       "    <tr>\n",
       "      <th>(36.5, 41.0]</th>\n",
       "      <td>23.000000</td>\n",
       "      <td>1.000000</td>\n",
       "      <td>0.000000</td>\n",
       "      <td>6.000000</td>\n",
       "      <td>40.000000</td>\n",
       "    </tr>\n",
       "    <tr>\n",
       "      <th>(41.0, 45.5]</th>\n",
       "      <td>NaN</td>\n",
       "      <td>NaN</td>\n",
       "      <td>NaN</td>\n",
       "      <td>NaN</td>\n",
       "      <td>NaN</td>\n",
       "    </tr>\n",
       "    <tr>\n",
       "      <th>(45.5, 50.0]</th>\n",
       "      <td>562.000000</td>\n",
       "      <td>0.000000</td>\n",
       "      <td>0.000000</td>\n",
       "      <td>2.000000</td>\n",
       "      <td>47.000000</td>\n",
       "    </tr>\n",
       "    <tr>\n",
       "      <th>(50.0, 54.5]</th>\n",
       "      <td>NaN</td>\n",
       "      <td>NaN</td>\n",
       "      <td>NaN</td>\n",
       "      <td>NaN</td>\n",
       "      <td>NaN</td>\n",
       "    </tr>\n",
       "    <tr>\n",
       "      <th>(54.5, 59.0]</th>\n",
       "      <td>NaN</td>\n",
       "      <td>NaN</td>\n",
       "      <td>NaN</td>\n",
       "      <td>NaN</td>\n",
       "      <td>NaN</td>\n",
       "    </tr>\n",
       "    <tr>\n",
       "      <th>(59.0, 63.5]</th>\n",
       "      <td>38.000000</td>\n",
       "      <td>2.000000</td>\n",
       "      <td>0.000000</td>\n",
       "      <td>5.000000</td>\n",
       "      <td>60.000000</td>\n",
       "    </tr>\n",
       "    <tr>\n",
       "      <th>(63.5, 68.0]</th>\n",
       "      <td>NaN</td>\n",
       "      <td>NaN</td>\n",
       "      <td>NaN</td>\n",
       "      <td>NaN</td>\n",
       "      <td>NaN</td>\n",
       "    </tr>\n",
       "    <tr>\n",
       "      <th>(68.0, 72.5]</th>\n",
       "      <td>NaN</td>\n",
       "      <td>NaN</td>\n",
       "      <td>NaN</td>\n",
       "      <td>NaN</td>\n",
       "      <td>NaN</td>\n",
       "    </tr>\n",
       "    <tr>\n",
       "      <th>(72.5, 77.0]</th>\n",
       "      <td>NaN</td>\n",
       "      <td>NaN</td>\n",
       "      <td>NaN</td>\n",
       "      <td>NaN</td>\n",
       "      <td>NaN</td>\n",
       "    </tr>\n",
       "    <tr>\n",
       "      <th>(77.0, 81.5]</th>\n",
       "      <td>NaN</td>\n",
       "      <td>NaN</td>\n",
       "      <td>NaN</td>\n",
       "      <td>NaN</td>\n",
       "      <td>NaN</td>\n",
       "    </tr>\n",
       "    <tr>\n",
       "      <th>(81.5, 86.0]</th>\n",
       "      <td>NaN</td>\n",
       "      <td>NaN</td>\n",
       "      <td>NaN</td>\n",
       "      <td>NaN</td>\n",
       "      <td>NaN</td>\n",
       "    </tr>\n",
       "    <tr>\n",
       "      <th>(86.0, 90.5]</th>\n",
       "      <td>NaN</td>\n",
       "      <td>NaN</td>\n",
       "      <td>NaN</td>\n",
       "      <td>NaN</td>\n",
       "      <td>NaN</td>\n",
       "    </tr>\n",
       "    <tr>\n",
       "      <th>(90.5, 95.0]</th>\n",
       "      <td>40.000000</td>\n",
       "      <td>1.000000</td>\n",
       "      <td>0.000000</td>\n",
       "      <td>6.000000</td>\n",
       "      <td>95.000000</td>\n",
       "    </tr>\n",
       "  </tbody>\n",
       "</table>\n",
       "</div>"
      ],
      "text/plain": [
       "                    views     likes  review_count  pic_count   num_tags\n",
       "tag_bins                                                               \n",
       "(4.91, 9.5]    534.754601  0.926380      0.067485   5.766871   7.447853\n",
       "(9.5, 14.0]    496.545455  1.138340      0.067194   8.249012  12.134387\n",
       "(14.0, 18.5]   461.182692  1.500000      0.067308  11.822115  16.543269\n",
       "(18.5, 23.0]   654.211594  2.031884      0.144928  12.382609  20.350725\n",
       "(23.0, 27.5]  1168.250000  0.600000      0.050000   5.900000  25.300000\n",
       "(27.5, 32.0]  2225.000000  1.285714      0.000000   7.714286  30.571429\n",
       "(32.0, 36.5]          NaN       NaN           NaN        NaN        NaN\n",
       "(36.5, 41.0]    23.000000  1.000000      0.000000   6.000000  40.000000\n",
       "(41.0, 45.5]          NaN       NaN           NaN        NaN        NaN\n",
       "(45.5, 50.0]   562.000000  0.000000      0.000000   2.000000  47.000000\n",
       "(50.0, 54.5]          NaN       NaN           NaN        NaN        NaN\n",
       "(54.5, 59.0]          NaN       NaN           NaN        NaN        NaN\n",
       "(59.0, 63.5]    38.000000  2.000000      0.000000   5.000000  60.000000\n",
       "(63.5, 68.0]          NaN       NaN           NaN        NaN        NaN\n",
       "(68.0, 72.5]          NaN       NaN           NaN        NaN        NaN\n",
       "(72.5, 77.0]          NaN       NaN           NaN        NaN        NaN\n",
       "(77.0, 81.5]          NaN       NaN           NaN        NaN        NaN\n",
       "(81.5, 86.0]          NaN       NaN           NaN        NaN        NaN\n",
       "(86.0, 90.5]          NaN       NaN           NaN        NaN        NaN\n",
       "(90.5, 95.0]    40.000000  1.000000      0.000000   6.000000  95.000000"
      ]
     },
     "execution_count": 68,
     "metadata": {},
     "output_type": "execute_result"
    }
   ],
   "source": [
    "df.groupby('tag_bins').mean()"
   ]
  },
  {
   "cell_type": "code",
   "execution_count": null,
   "metadata": {},
   "outputs": [],
   "source": [
    "from sklearn import preprocessing\n",
    "\n",
    "x, y = df.views, df.price_usd\n",
    "\n",
    "min_max_scaler = preprocessing.MinMaxScaler()\n",
    "x_scaled = min_max_scaler.fit_transform(x)\n",
    "y_scaled = min_max_scaler"
   ]
  },
  {
   "cell_type": "code",
   "execution_count": 224,
   "metadata": {},
   "outputs": [
    {
     "data": {
      "text/plain": [
       "<matplotlib.axes._subplots.AxesSubplot at 0x7f4551e335e0>"
      ]
     },
     "execution_count": 224,
     "metadata": {},
     "output_type": "execute_result"
    },
    {
     "data": {
      "image/png": "[encoded data removed]",
      "text/plain": [
       "<Figure size 432x288 with 1 Axes>"
      ]
     },
     "metadata": {
      "needs_background": "light"
     },
     "output_type": "display_data"
    }
   ],
   "source": [
    "sns.kdeplot(df['views'], df['price_usd'])"
   ]
  },
  {
   "cell_type": "code",
   "execution_count": null,
   "metadata": {},
   "outputs": [],
   "source": []
  },
  {
   "cell_type": "code",
   "execution_count": null,
   "metadata": {},
   "outputs": [],
   "source": [
    "dist_df = df.loc[:, ['views']]"
   ]
  },
  {
   "cell_type": "code",
   "execution_count": 38,
   "metadata": {},
   "outputs": [
    {
     "ename": "KeyError",
     "evalue": "'hue'",
     "output_type": "error",
     "traceback": [
      "\u001b[0;31m---------------------------------------------------------------------------\u001b[0m",
      "\u001b[0;31mKeyError\u001b[0m                                  Traceback (most recent call last)",
      "\u001b[0;32m~/anaconda3/envs/ds/lib/python3.8/site-packages/pandas/core/indexes/base.py\u001b[0m in \u001b[0;36mget_loc\u001b[0;34m(self, key, method, tolerance)\u001b[0m\n\u001b[1;32m   2645\u001b[0m             \u001b[0;32mtry\u001b[0m\u001b[0;34m:\u001b[0m\u001b[0;34m\u001b[0m\u001b[0;34m\u001b[0m\u001b[0m\n\u001b[0;32m-> 2646\u001b[0;31m                 \u001b[0;32mreturn\u001b[0m \u001b[0mself\u001b[0m\u001b[0;34m.\u001b[0m\u001b[0m_engine\u001b[0m\u001b[0;34m.\u001b[0m\u001b[0mget_loc\u001b[0m\u001b[0;34m(\u001b[0m\u001b[0mkey\u001b[0m\u001b[0;34m)\u001b[0m\u001b[0;34m\u001b[0m\u001b[0;34m\u001b[0m\u001b[0m\n\u001b[0m\u001b[1;32m   2647\u001b[0m             \u001b[0;32mexcept\u001b[0m \u001b[0mKeyError\u001b[0m\u001b[0;34m:\u001b[0m\u001b[0;34m\u001b[0m\u001b[0;34m\u001b[0m\u001b[0m\n",
      "\u001b[0;32mpandas/_libs/index.pyx\u001b[0m in \u001b[0;36mpandas._libs.index.IndexEngine.get_loc\u001b[0;34m()\u001b[0m\n",
      "\u001b[0;32mpandas/_libs/index.pyx\u001b[0m in \u001b[0;36mpandas._libs.index.IndexEngine.get_loc\u001b[0;34m()\u001b[0m\n",
      "\u001b[0;32mpandas/_libs/hashtable_class_helper.pxi\u001b[0m in \u001b[0;36mpandas._libs.hashtable.PyObjectHashTable.get_item\u001b[0;34m()\u001b[0m\n",
      "\u001b[0;32mpandas/_libs/hashtable_class_helper.pxi\u001b[0m in \u001b[0;36mpandas._libs.hashtable.PyObjectHashTable.get_item\u001b[0;34m()\u001b[0m\n",
      "\u001b[0;31mKeyError\u001b[0m: 'hue'",
      "\nDuring handling of the above exception, another exception occurred:\n",
      "\u001b[0;31mKeyError\u001b[0m                                  Traceback (most recent call last)",
      "\u001b[0;32m<ipython-input-38-7565b2d9af58>\u001b[0m in \u001b[0;36m<module>\u001b[0;34m\u001b[0m\n\u001b[0;32m----> 1\u001b[0;31m g = sns.FacetGrid(df, #the dataframe to pull from\n\u001b[0m\u001b[1;32m      2\u001b[0m                   \u001b[0mrow\u001b[0m\u001b[0;34m=\u001b[0m\u001b[0;34m\"hue\"\u001b[0m\u001b[0;34m,\u001b[0m \u001b[0;31m#define the column for each subplot row to be differentiated by\u001b[0m\u001b[0;34m\u001b[0m\u001b[0;34m\u001b[0m\u001b[0m\n\u001b[1;32m      3\u001b[0m                   \u001b[0mhue\u001b[0m\u001b[0;34m=\u001b[0m\u001b[0;34m\"hue\"\u001b[0m\u001b[0;34m,\u001b[0m \u001b[0;31m#define the column for each subplot color to be differentiated by\u001b[0m\u001b[0;34m\u001b[0m\u001b[0;34m\u001b[0m\u001b[0m\n\u001b[1;32m      4\u001b[0m                   \u001b[0maspect\u001b[0m\u001b[0;34m=\u001b[0m\u001b[0;36m10\u001b[0m\u001b[0;34m,\u001b[0m \u001b[0;31m#aspect * height = width\u001b[0m\u001b[0;34m\u001b[0m\u001b[0;34m\u001b[0m\u001b[0m\n\u001b[1;32m      5\u001b[0m                   \u001b[0mheight\u001b[0m\u001b[0;34m=\u001b[0m\u001b[0;36m1.5\u001b[0m\u001b[0;34m,\u001b[0m \u001b[0;31m#height of each subplot\u001b[0m\u001b[0;34m\u001b[0m\u001b[0;34m\u001b[0m\u001b[0m\n",
      "\u001b[0;32m~/anaconda3/envs/ds/lib/python3.8/site-packages/seaborn/axisgrid.py\u001b[0m in \u001b[0;36m__init__\u001b[0;34m(self, data, row, col, hue, col_wrap, sharex, sharey, height, aspect, palette, row_order, col_order, hue_order, hue_kws, dropna, legend_out, despine, margin_titles, xlim, ylim, subplot_kws, gridspec_kws, size)\u001b[0m\n\u001b[1;32m    248\u001b[0m             \u001b[0mhue_names\u001b[0m \u001b[0;34m=\u001b[0m \u001b[0;32mNone\u001b[0m\u001b[0;34m\u001b[0m\u001b[0;34m\u001b[0m\u001b[0m\n\u001b[1;32m    249\u001b[0m         \u001b[0;32melse\u001b[0m\u001b[0;34m:\u001b[0m\u001b[0;34m\u001b[0m\u001b[0;34m\u001b[0m\u001b[0m\n\u001b[0;32m--> 250\u001b[0;31m             \u001b[0mhue_names\u001b[0m \u001b[0;34m=\u001b[0m \u001b[0mutils\u001b[0m\u001b[0;34m.\u001b[0m\u001b[0mcategorical_order\u001b[0m\u001b[0;34m(\u001b[0m\u001b[0mdata\u001b[0m\u001b[0;34m[\u001b[0m\u001b[0mhue\u001b[0m\u001b[0;34m]\u001b[0m\u001b[0;34m,\u001b[0m \u001b[0mhue_order\u001b[0m\u001b[0;34m)\u001b[0m\u001b[0;34m\u001b[0m\u001b[0;34m\u001b[0m\u001b[0m\n\u001b[0m\u001b[1;32m    251\u001b[0m \u001b[0;34m\u001b[0m\u001b[0m\n\u001b[1;32m    252\u001b[0m         \u001b[0mcolors\u001b[0m \u001b[0;34m=\u001b[0m \u001b[0mself\u001b[0m\u001b[0;34m.\u001b[0m\u001b[0m_get_palette\u001b[0m\u001b[0;34m(\u001b[0m\u001b[0mdata\u001b[0m\u001b[0;34m,\u001b[0m \u001b[0mhue\u001b[0m\u001b[0;34m,\u001b[0m \u001b[0mhue_order\u001b[0m\u001b[0;34m,\u001b[0m \u001b[0mpalette\u001b[0m\u001b[0;34m)\u001b[0m\u001b[0;34m\u001b[0m\u001b[0;34m\u001b[0m\u001b[0m\n",
      "\u001b[0;32m~/anaconda3/envs/ds/lib/python3.8/site-packages/pandas/core/frame.py\u001b[0m in \u001b[0;36m__getitem__\u001b[0;34m(self, key)\u001b[0m\n\u001b[1;32m   2798\u001b[0m             \u001b[0;32mif\u001b[0m \u001b[0mself\u001b[0m\u001b[0;34m.\u001b[0m\u001b[0mcolumns\u001b[0m\u001b[0;34m.\u001b[0m\u001b[0mnlevels\u001b[0m \u001b[0;34m>\u001b[0m \u001b[0;36m1\u001b[0m\u001b[0;34m:\u001b[0m\u001b[0;34m\u001b[0m\u001b[0;34m\u001b[0m\u001b[0m\n\u001b[1;32m   2799\u001b[0m                 \u001b[0;32mreturn\u001b[0m \u001b[0mself\u001b[0m\u001b[0;34m.\u001b[0m\u001b[0m_getitem_multilevel\u001b[0m\u001b[0;34m(\u001b[0m\u001b[0mkey\u001b[0m\u001b[0;34m)\u001b[0m\u001b[0;34m\u001b[0m\u001b[0;34m\u001b[0m\u001b[0m\n\u001b[0;32m-> 2800\u001b[0;31m             \u001b[0mindexer\u001b[0m \u001b[0;34m=\u001b[0m \u001b[0mself\u001b[0m\u001b[0;34m.\u001b[0m\u001b[0mcolumns\u001b[0m\u001b[0;34m.\u001b[0m\u001b[0mget_loc\u001b[0m\u001b[0;34m(\u001b[0m\u001b[0mkey\u001b[0m\u001b[0;34m)\u001b[0m\u001b[0;34m\u001b[0m\u001b[0;34m\u001b[0m\u001b[0m\n\u001b[0m\u001b[1;32m   2801\u001b[0m             \u001b[0;32mif\u001b[0m \u001b[0mis_integer\u001b[0m\u001b[0;34m(\u001b[0m\u001b[0mindexer\u001b[0m\u001b[0;34m)\u001b[0m\u001b[0;34m:\u001b[0m\u001b[0;34m\u001b[0m\u001b[0;34m\u001b[0m\u001b[0m\n\u001b[1;32m   2802\u001b[0m                 \u001b[0mindexer\u001b[0m \u001b[0;34m=\u001b[0m \u001b[0;34m[\u001b[0m\u001b[0mindexer\u001b[0m\u001b[0;34m]\u001b[0m\u001b[0;34m\u001b[0m\u001b[0;34m\u001b[0m\u001b[0m\n",
      "\u001b[0;32m~/anaconda3/envs/ds/lib/python3.8/site-packages/pandas/core/indexes/base.py\u001b[0m in \u001b[0;36mget_loc\u001b[0;34m(self, key, method, tolerance)\u001b[0m\n\u001b[1;32m   2646\u001b[0m                 \u001b[0;32mreturn\u001b[0m \u001b[0mself\u001b[0m\u001b[0;34m.\u001b[0m\u001b[0m_engine\u001b[0m\u001b[0;34m.\u001b[0m\u001b[0mget_loc\u001b[0m\u001b[0;34m(\u001b[0m\u001b[0mkey\u001b[0m\u001b[0;34m)\u001b[0m\u001b[0;34m\u001b[0m\u001b[0;34m\u001b[0m\u001b[0m\n\u001b[1;32m   2647\u001b[0m             \u001b[0;32mexcept\u001b[0m \u001b[0mKeyError\u001b[0m\u001b[0;34m:\u001b[0m\u001b[0;34m\u001b[0m\u001b[0;34m\u001b[0m\u001b[0m\n\u001b[0;32m-> 2648\u001b[0;31m                 \u001b[0;32mreturn\u001b[0m \u001b[0mself\u001b[0m\u001b[0;34m.\u001b[0m\u001b[0m_engine\u001b[0m\u001b[0;34m.\u001b[0m\u001b[0mget_loc\u001b[0m\u001b[0;34m(\u001b[0m\u001b[0mself\u001b[0m\u001b[0;34m.\u001b[0m\u001b[0m_maybe_cast_indexer\u001b[0m\u001b[0;34m(\u001b[0m\u001b[0mkey\u001b[0m\u001b[0;34m)\u001b[0m\u001b[0;34m)\u001b[0m\u001b[0;34m\u001b[0m\u001b[0;34m\u001b[0m\u001b[0m\n\u001b[0m\u001b[1;32m   2649\u001b[0m         \u001b[0mindexer\u001b[0m \u001b[0;34m=\u001b[0m \u001b[0mself\u001b[0m\u001b[0;34m.\u001b[0m\u001b[0mget_indexer\u001b[0m\u001b[0;34m(\u001b[0m\u001b[0;34m[\u001b[0m\u001b[0mkey\u001b[0m\u001b[0;34m]\u001b[0m\u001b[0;34m,\u001b[0m \u001b[0mmethod\u001b[0m\u001b[0;34m=\u001b[0m\u001b[0mmethod\u001b[0m\u001b[0;34m,\u001b[0m \u001b[0mtolerance\u001b[0m\u001b[0;34m=\u001b[0m\u001b[0mtolerance\u001b[0m\u001b[0;34m)\u001b[0m\u001b[0;34m\u001b[0m\u001b[0;34m\u001b[0m\u001b[0m\n\u001b[1;32m   2650\u001b[0m         \u001b[0;32mif\u001b[0m \u001b[0mindexer\u001b[0m\u001b[0;34m.\u001b[0m\u001b[0mndim\u001b[0m \u001b[0;34m>\u001b[0m \u001b[0;36m1\u001b[0m \u001b[0;32mor\u001b[0m \u001b[0mindexer\u001b[0m\u001b[0;34m.\u001b[0m\u001b[0msize\u001b[0m \u001b[0;34m>\u001b[0m \u001b[0;36m1\u001b[0m\u001b[0;34m:\u001b[0m\u001b[0;34m\u001b[0m\u001b[0;34m\u001b[0m\u001b[0m\n",
      "\u001b[0;32mpandas/_libs/index.pyx\u001b[0m in \u001b[0;36mpandas._libs.index.IndexEngine.get_loc\u001b[0;34m()\u001b[0m\n",
      "\u001b[0;32mpandas/_libs/index.pyx\u001b[0m in \u001b[0;36mpandas._libs.index.IndexEngine.get_loc\u001b[0;34m()\u001b[0m\n",
      "\u001b[0;32mpandas/_libs/hashtable_class_helper.pxi\u001b[0m in \u001b[0;36mpandas._libs.hashtable.PyObjectHashTable.get_item\u001b[0;34m()\u001b[0m\n",
      "\u001b[0;32mpandas/_libs/hashtable_class_helper.pxi\u001b[0m in \u001b[0;36mpandas._libs.hashtable.PyObjectHashTable.get_item\u001b[0;34m()\u001b[0m\n",
      "\u001b[0;31mKeyError\u001b[0m: 'hue'"
     ]
    }
   ],
   "source": [
    "g = sns.FacetGrid(df, #the dataframe to pull from\n",
    "                  row=\"hue\", #define the column for each subplot row to be differentiated by\n",
    "                  hue=\"hue\", #define the column for each subplot color to be differentiated by\n",
    "                  aspect=10, #aspect * height = width\n",
    "                  height=1.5, #height of each subplot\n",
    "                  palette=['#4285F4','#EA4335','#FBBC05','#34A853'] #google colors\n",
    "                 )"
   ]
  },
  {
   "cell_type": "code",
   "execution_count": 34,
   "metadata": {},
   "outputs": [
    {
     "data": {
      "text/plain": [
       "<matplotlib.lines.Line2D at 0x7f45592960d0>"
      ]
     },
     "execution_count": 34,
     "metadata": {},
     "output_type": "execute_result"
    },
    {
     "data": {
      "image/png": "[encoded data removed]",
      "text/plain": [
       "<Figure size 432x288 with 1 Axes>"
      ]
     },
     "metadata": {
      "needs_background": "light"
     },
     "output_type": "display_data"
    }
   ],
   "source": [
    "fig, ax = plt.subplots()\n",
    "\n",
    "sns.distplot(df.tags.agg(len));\n",
    "\n",
    "ax.set_title('Distribution of Tag Counts')\n",
    "ax.axvline(np.mean(df.tags.agg(len)), color='gray', linestyle='--')\n"
   ]
  },
  {
   "cell_type": "code",
   "execution_count": 36,
   "metadata": {},
   "outputs": [
    {
     "data": {
      "image/png": "[encoded data removed]",
      "text/plain": [
       "<Figure size 432x288 with 1 Axes>"
      ]
     },
     "metadata": {
      "needs_background": "light"
     },
     "output_type": "display_data"
    }
   ],
   "source": [
    "fig, ax = plt.subplots()\n",
    "\n",
    "sns.distplot(df.views);\n",
    "\n",
    "ax.set_title('Distribution of View Counts')\n",
    "ax.axvline(np.mean(df.views), color='gray', linestyle='--');"
   ]
  },
  {
   "cell_type": "code",
   "execution_count": null,
   "metadata": {},
   "outputs": [],
   "source": []
  }
 ],
 "metadata": {
  "kernelspec": {
   "display_name": "Python 3",
   "language": "python",
   "name": "python3"
  },
  "language_info": {
   "codemirror_mode": {
    "name": "ipython",
    "version": 3
   },
   "file_extension": ".py",
   "mimetype": "text/x-python",
   "name": "python",
   "nbconvert_exporter": "python",
   "pygments_lexer": "ipython3",
   "version": "3.8.3"
  }
 },
 "nbformat": 4,
 "nbformat_minor": 4
}
