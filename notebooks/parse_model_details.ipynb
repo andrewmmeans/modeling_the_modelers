{
 "cells": [
  {
   "cell_type": "code",
   "execution_count": 21,
   "metadata": {},
   "outputs": [],
   "source": [
    "from bs4 import BeautifulSoup\n",
    "import re\n",
    "import requests\n",
    "import pickle"
   ]
  },
  {
   "cell_type": "code",
   "execution_count": 3,
   "metadata": {},
   "outputs": [],
   "source": [
    "url = 'https://www.cgtrader.com/3d-models/architectural/decoration/ceiling-wood-thin-branch-beam-n1'"
   ]
  },
  {
   "cell_type": "code",
   "execution_count": 87,
   "metadata": {},
   "outputs": [],
   "source": [
    "url = 'https://www.cgtrader.com/3d-models/plant/pot-plant/ficus-benjamin-07'"
   ]
  },
  {
   "cell_type": "code",
   "execution_count": 88,
   "metadata": {},
   "outputs": [],
   "source": [
    "response = requests.get(url, 'html.parser')"
   ]
  },
  {
   "cell_type": "code",
   "execution_count": 89,
   "metadata": {},
   "outputs": [],
   "source": [
    "soup = BeautifulSoup(response.content, 'html.parser')"
   ]
  },
  {
   "cell_type": "code",
   "execution_count": 90,
   "metadata": {},
   "outputs": [],
   "source": [
    "tags = list(map(lambda x: x.text, soup.select('li.label')))"
   ]
  },
  {
   "cell_type": "code",
   "execution_count": 152,
   "metadata": {},
   "outputs": [],
   "source": [
    "def grab_int(tag):\n",
    "    return int(tag.attrs.get('content').split(' ')[0])"
   ]
  },
  {
   "cell_type": "code",
   "execution_count": 148,
   "metadata": {},
   "outputs": [],
   "source": [
    "def grab_text(tag):\n",
    "    return tag.text"
   ]
  },
  {
   "cell_type": "code",
   "execution_count": 154,
   "metadata": {},
   "outputs": [],
   "source": [
    "views = int(soup.select('.stats-info__views-button')[0].attrs.get('content').split(' ')[0])\n",
    "\n",
    "views = grab_int(soup.select('.stats-info__views-button')[0])"
   ]
  },
  {
   "cell_type": "code",
   "execution_count": 151,
   "metadata": {},
   "outputs": [
    {
     "data": {
      "text/plain": [
       "'7'"
      ]
     },
     "execution_count": 151,
     "metadata": {},
     "output_type": "execute_result"
    }
   ],
   "source": [
    "int(soup.select('.stats-info__like-button > div:nth-child(1)')[0].attrs.get('content').split(' ')[0])"
   ]
  },
  {
   "cell_type": "code",
   "execution_count": 93,
   "metadata": {},
   "outputs": [],
   "source": [
    "pic_count = int(soup.select('.footerCount')[0].text.split('/')[1].strip())"
   ]
  },
  {
   "cell_type": "code",
   "execution_count": 126,
   "metadata": {},
   "outputs": [],
   "source": [
    "comments = soup.select('.comments-list')[0]"
   ]
  },
  {
   "cell_type": "code",
   "execution_count": 138,
   "metadata": {},
   "outputs": [
    {
     "data": {
      "text/plain": [
       "[<a class=\"author-link\" href=\"/kickonster\"><span class=\"avatar avatar--small avatar--with-name\"><img alt=\"kickonster\" src=\"https://img2.cgtrader.com/avatars/694574/small_0780f9a6-2ac5-40c5-bcda-b22ef1486d67.jpg\"/></span><span class=\"link link--darker\">kickonster</span></a>,\n",
       " <a class=\"author-link\" href=\"/subject\"><span class=\"avatar avatar--small avatar--with-name\"><img alt=\"subject\" src=\"https://img1.cgtrader.com/avatars/1161367/small_66e4d108-ffb8-4c7f-b254-fa8fac25b162.jpg\"/></span><span class=\"link link--darker\">subject</span></a>]"
      ]
     },
     "execution_count": 138,
     "metadata": {},
     "output_type": "execute_result"
    }
   ],
   "source": [
    "comments.select('.author-link')"
   ]
  },
  {
   "cell_type": "code",
   "execution_count": 156,
   "metadata": {},
   "outputs": [
    {
     "data": {
      "text/plain": [
       "[<div class=\"card card--flat\">cool<div class=\"project-comment__actions-bar\"><a class=\"project-comment__action\">Reply</a></div></div>,\n",
       " <div class=\"card card--flat\">Super<div class=\"project-comment__actions-bar\"><a class=\"project-comment__action\">Reply</a></div></div>]"
      ]
     },
     "execution_count": 156,
     "metadata": {},
     "output_type": "execute_result"
    }
   ],
   "source": [
    "comments.select('.card')."
   ]
  },
  {
   "cell_type": "code",
   "execution_count": 147,
   "metadata": {},
   "outputs": [
    {
     "data": {
      "text/plain": [
       "['coolReply', 'SuperReply']"
      ]
     },
     "execution_count": 147,
     "metadata": {},
     "output_type": "execute_result"
    }
   ],
   "source": [
    "list(map(lambda x: x.text, comments.select('.card')))"
   ]
  },
  {
   "cell_type": "code",
   "execution_count": 155,
   "metadata": {},
   "outputs": [
    {
     "data": {
      "text/plain": [
       "['2020-03-18 16:41', '2020-03-19 21:27']"
      ]
     },
     "execution_count": 155,
     "metadata": {},
     "output_type": "execute_result"
    }
   ],
   "source": [
    "list(map(lambda x: x.text, comments.select('.project-comment__date')))\n",
    "list(map(grab_text, comments.select('.project-comment__date')))"
   ]
  },
  {
   "cell_type": "code",
   "execution_count": 119,
   "metadata": {},
   "outputs": [
    {
     "data": {
      "text/plain": [
       "'kickonster'"
      ]
     },
     "execution_count": 119,
     "metadata": {},
     "output_type": "execute_result"
    }
   ],
   "source": [
    "comments.select('.project-comment__author')[0].select('.link.link--darker')[0].text"
   ]
  },
  {
   "cell_type": "code",
   "execution_count": null,
   "metadata": {},
   "outputs": [],
   "source": [
    "comments_list."
   ]
  },
  {
   "cell_type": "code",
   "execution_count": 45,
   "metadata": {},
   "outputs": [
    {
     "name": "stdout",
     "output_type": "stream",
     "text": [
      "491 µs ± 18.6 µs per loop (mean ± std. dev. of 7 runs, 1000 loops each)\n"
     ]
    }
   ],
   "source": [
    "import pprint\n",
    "\n",
    "%timeit re.findall(r'<li class=\\\"label\\\">(.*[^<\\/div])>', str(response.content), flags=re.MULTILINE)[0]"
   ]
  },
  {
   "cell_type": "code",
   "execution_count": null,
   "metadata": {},
   "outputs": [],
   "source": [
    "soup = BeautifulSoup(response)"
   ]
  }
 ],
 "metadata": {
  "kernelspec": {
   "display_name": "Python 3",
   "language": "python",
   "name": "python3"
  },
  "language_info": {
   "codemirror_mode": {
    "name": "ipython",
    "version": 3
   },
   "file_extension": ".py",
   "mimetype": "text/x-python",
   "name": "python",
   "nbconvert_exporter": "python",
   "pygments_lexer": "ipython3",
   "version": "3.8.3"
  }
 },
 "nbformat": 4,
 "nbformat_minor": 4
}
