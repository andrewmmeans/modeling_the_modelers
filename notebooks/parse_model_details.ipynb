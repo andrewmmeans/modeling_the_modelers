{
 "cells": [
  {
   "cell_type": "code",
   "execution_count": 239,
   "metadata": {},
   "outputs": [],
   "source": [
    "from bs4 import BeautifulSoup\n",
    "import requests\n",
    "import pickle\n",
    "import json\n",
    "import re\n",
    "\n",
    "from pprint import pprint"
   ]
  },
  {
   "cell_type": "code",
   "execution_count": 199,
   "metadata": {},
   "outputs": [],
   "source": [
    "url = 'https://www.cgtrader.com/3d-models/architectural/decoration/ceiling-wood-thin-branch-beam-n1'\n",
    "\n",
    "response = requests.get(url, 'html.parser')\n",
    "\n",
    "soup = BeautifulSoup(response.content, 'html.parser')"
   ]
  },
  {
   "cell_type": "code",
   "execution_count": 307,
   "metadata": {},
   "outputs": [],
   "source": [
    "def get_tags(soup):\n",
    "    tags = list(map(lambda x: x.text, soup.select('li.label')))\n",
    "    return tags\n",
    "\n",
    "\n",
    "def get_views(soup):\n",
    "    return int(soup.select('.stats-info__views-button')[0].attrs.get('content').split(' ')[0])\n",
    "\n",
    "\n",
    "def get_likes(soup):\n",
    "    return int(soup.select('.stats-info__like-button > div:nth-child(1)')[0].attrs.get('content').split(' ')[0])\n",
    "\n",
    "\n",
    "def get_price(soup):\n",
    "    return soup.select('.product-pricing__price > span:nth-child(1) > span:nth-child(1)')[0].text\n",
    "\n",
    "\n",
    "def get_pic_count(soup):\n",
    "    return int(soup.select('.footerCount')[0].text.split('/')[1].strip())\n",
    "\n",
    "\n",
    "def get_comments(soup):\n",
    "    comments = soup.select('.comments-list')[0]\n",
    "    comment_authors = list(map(lambda x: x.text, comments.select('.author-link')))\n",
    "    comment_texts = list(map(lambda x: x.text[:-5], comments.select('.card')))\n",
    "    comment_datetimes = list(map(lambda x: datetime.strptime(x.text, '%Y-%m-%d %H:%M'), comments.select('.project-comment__date')))\n",
    "    comments_dict = {\n",
    "        'authors': comment_authors, \n",
    "        'texts': comment_texts, \n",
    "        'datetimes': comment_datetimes\n",
    "    }\n",
    "    return comments_dict\n",
    "\n",
    "\n",
    "def get_modeler(soup):\n",
    "    return soup.select('.username')[0].text\n",
    "\n",
    "\n",
    "def get_modeler_ratings(soup):\n",
    "    ratings = {\n",
    "        'avg_rating': json.loads(soup.select('div.author-rating > div:nth-child(1)')[0].attrs.get('data-react-props')).get('rating'),\n",
    "        'num_rating': int(soup.select('.link--primary')[0].text[1:-1].split(' ')[0])\n",
    "    }\n",
    "    return ratings\n",
    "\n",
    "\n",
    "def get_modeler_response(soup):\n",
    "    response_arr = soup.select('.author-response > span:nth-child(2)')[0].text.split(' ')\n",
    "    response = {\n",
    "        'percent': int(response_arr[0][:-1]),\n",
    "        'time': float(response_arr[2][:-1])\n",
    "    }\n",
    "    return response\n",
    "\n",
    "\n",
    "def get_model_description(soup):\n",
    "    description = soup.select('.product-description > p:nth-child(1)')[0].text.replace('\\n', ' ')\n",
    "    return description\n",
    "    \n",
    "\n",
    "def get_model_formats(soup):\n",
    "    format_body = soup.select('ul.info-list')[0]\n",
    "    formats = [x.text for x in format_body.select('.js-format-link')]\n",
    "    sizes = [x.text for x in format_body.select('.right-column')]\n",
    "    format_dict = {\n",
    "        'formats': formats,\n",
    "        'sizes': sizes\n",
    "    }\n",
    "    return format_dict"
   ]
  },
  {
   "cell_type": "code",
   "execution_count": 394,
   "metadata": {},
   "outputs": [],
   "source": [
    "def is_svg_checked(tag):\n",
    "    return 'is-green' in str(tag)"
   ]
  },
  {
   "cell_type": "code",
   "execution_count": 410,
   "metadata": {},
   "outputs": [],
   "source": [
    "def get_model_details(soup):\n",
    "    info_list = soup.select('ul.info-list:nth-child(2)')[0]\n",
    "    first_two = [x for x in info_list.select('li')][0]\n",
    "    publish_and_model_id_lst = list(first_two.children)\n",
    "    publish_date = datetime.strptime(publish_and_model_id_lst[1].text, '%Y-%m-%d')\n",
    "    model_id = publish_and_model_id_lst[2].text.split('#')[1]\n",
    "    bool_cols = ['animated', 'rigged', 'vr/ar/low-poly', 'pbr', 'textures', 'materials', 'uv_mapping', 'plugins_used']\n",
    "    bool_vals = list(map(lambda x: 'is-green' in str(x), info_list.select('.fal')))\n",
    "    bool_dict = {k: v for k, v in list(zip(bool_cols, bool_vals))}\n",
    "    geometry = info_list.select('.u-float-right')[4].text\n",
    "    polygon_text = info_list.select('.u-float-right')[5].text\n",
    "    polygons = int(''.join(polygon_text.split(',')))\n",
    "    vertice_text = info_list.select('.u-float-right')[6].text\n",
    "    vertices = int(''.join(vertice_text.split(',')))\n",
    "    unwrapped_uvs = info_list.select('.u-float-right')[10].text\n",
    "    model_detail_dict = {\n",
    "        'model_id':model_id,\n",
    "        'geometry':geometry,\n",
    "        'polygons':polygons,\n",
    "        'vertices':vertices,\n",
    "        'unwrapped_uvs':unwrapped_uvs\n",
    "    }\n",
    "    model_detail_dict.update(bool_dict)\n",
    "    return model_detail_dict\n",
    "    \n",
    "    \n",
    "    \n",
    "    "
   ]
  },
  {
   "cell_type": "code",
   "execution_count": 411,
   "metadata": {},
   "outputs": [
    {
     "data": {
      "text/plain": [
       "{'model_id': '2383583',\n",
       " 'geometry': 'Polygon mesh',\n",
       " 'polygons': 155000,\n",
       " 'vertices': 170000,\n",
       " 'unwrapped_uvs': 'Non-overlapping',\n",
       " 'animated': False,\n",
       " 'rigged': False,\n",
       " 'vr/ar/low-poly': False,\n",
       " 'pbr': False,\n",
       " 'textures': True,\n",
       " 'materials': True,\n",
       " 'uv_mapping': True,\n",
       " 'plugins_used': True}"
      ]
     },
     "execution_count": 411,
     "metadata": {},
     "output_type": "execute_result"
    }
   ],
   "source": [
    "get_model_details(soup)"
   ]
  },
  {
   "cell_type": "code",
   "execution_count": 388,
   "metadata": {},
   "outputs": [],
   "source": [
    "geometry = info_list.select('.u-float-right')[4].text\n"
   ]
  },
  {
   "cell_type": "code",
   "execution_count": 360,
   "metadata": {},
   "outputs": [],
   "source": [
    "info_list = soup.select('ul.info-list:nth-child(2)')[0]"
   ]
  },
  {
   "cell_type": "code",
   "execution_count": 399,
   "metadata": {},
   "outputs": [
    {
     "data": {
      "text/plain": [
       "True"
      ]
     },
     "execution_count": 399,
     "metadata": {},
     "output_type": "execute_result"
    }
   ],
   "source": [
    "is_svg_checked(info_list.select('.u-float-right')[7])"
   ]
  },
  {
   "cell_type": "code",
   "execution_count": 390,
   "metadata": {},
   "outputs": [
    {
     "data": {
      "text/plain": [
       "[<span class=\"u-float-right\"><span><i class=\"fal svg-inline--fa fa-times-circle is-red is-not-spaced right-column\"></i></span></span>,\n",
       " <span class=\"u-float-right\"><span><i class=\"fal svg-inline--fa fa-times-circle is-red is-not-spaced right-column\"></i></span></span>,\n",
       " <span class=\"u-float-right\"><span><i class=\"fal svg-inline--fa fa-times-circle is-red is-not-spaced right-column\"></i></span></span>,\n",
       " <span class=\"u-float-right\"><span><i class=\"fal svg-inline--fa fa-times-circle is-red is-not-spaced right-column\"></i></span></span>,\n",
       " <span class=\"u-float-right\"><span class=\"right-column\">Polygon mesh</span></span>,\n",
       " <span class=\"u-float-right\"><span class=\"right-column\">155,000</span></span>,\n",
       " <span class=\"u-float-right\"><span class=\"right-column\">170,000</span></span>,\n",
       " <span class=\"u-float-right\"><span><i class=\"fal svg-inline--fa fa-check-circle is-green is-not-spaced right-column\"></i></span></span>,\n",
       " <span class=\"u-float-right\"><span><i class=\"fal svg-inline--fa fa-check-circle is-green is-not-spaced right-column\"></i></span></span>,\n",
       " <span class=\"u-float-right\"><span><i class=\"fal svg-inline--fa fa-check-circle is-green is-not-spaced right-column\"></i></span></span>,\n",
       " <span class=\"u-float-right\"><span>Non-overlapping</span></span>,\n",
       " <span class=\"u-float-right\"><span><i class=\"fal svg-inline--fa fa-check-circle is-green is-not-spaced right-column\"></i></span></span>]"
      ]
     },
     "execution_count": 390,
     "metadata": {},
     "output_type": "execute_result"
    }
   ],
   "source": [
    "info_list.select('.u-float-right')"
   ]
  },
  {
   "cell_type": "code",
   "execution_count": 404,
   "metadata": {},
   "outputs": [
    {
     "data": {
      "text/plain": [
       "'Non-overlapping'"
      ]
     },
     "execution_count": 404,
     "metadata": {},
     "output_type": "execute_result"
    }
   ],
   "source": [
    "info_list.select('.u-float-right')[10].text"
   ]
  },
  {
   "cell_type": "code",
   "execution_count": 384,
   "metadata": {},
   "outputs": [
    {
     "data": {
      "text/plain": [
       "155000"
      ]
     },
     "execution_count": 384,
     "metadata": {},
     "output_type": "execute_result"
    }
   ],
   "source": [
    "int(''.join(geometry.split(',')))"
   ]
  },
  {
   "cell_type": "code",
   "execution_count": 381,
   "metadata": {},
   "outputs": [
    {
     "data": {
      "text/plain": [
       "['155555']"
      ]
     },
     "execution_count": 381,
     "metadata": {},
     "output_type": "execute_result"
    }
   ],
   "source": [
    "'155555'.split(',')"
   ]
  },
  {
   "cell_type": "code",
   "execution_count": 376,
   "metadata": {},
   "outputs": [
    {
     "data": {
      "text/plain": [
       "[<span class=\"u-float-right\"><span><i class=\"fal svg-inline--fa fa-times-circle is-red is-not-spaced right-column\"></i></span></span>,\n",
       " <span class=\"u-float-right\"><span><i class=\"fal svg-inline--fa fa-times-circle is-red is-not-spaced right-column\"></i></span></span>,\n",
       " <span class=\"u-float-right\"><span><i class=\"fal svg-inline--fa fa-times-circle is-red is-not-spaced right-column\"></i></span></span>,\n",
       " <span class=\"u-float-right\"><span><i class=\"fal svg-inline--fa fa-times-circle is-red is-not-spaced right-column\"></i></span></span>,\n",
       " <span class=\"u-float-right\"><span class=\"right-column\">Polygon mesh</span></span>]"
      ]
     },
     "execution_count": 376,
     "metadata": {},
     "output_type": "execute_result"
    }
   ],
   "source": [
    "bool_vals = info_list.select('.u-float-right')[0:4]\n",
    "bool_vals.extend(info_list.select('.u-float-right'))"
   ]
  },
  {
   "cell_type": "code",
   "execution_count": 332,
   "metadata": {},
   "outputs": [],
   "source": [
    "publish_and_model_id_lst = list(first_two.children)"
   ]
  },
  {
   "cell_type": "code",
   "execution_count": 327,
   "metadata": {},
   "outputs": [
    {
     "data": {
      "text/plain": [
       "('Publish date', datetime.datetime(2020, 4, 23, 0, 0))"
      ]
     },
     "execution_count": 327,
     "metadata": {},
     "output_type": "execute_result"
    }
   ],
   "source": [
    "publish_and_model_id_lst[0], datetime.strptime(publish_and_model_id_lst[1].text, '%Y-%m-%d')\n",
    "publish_and_model_id_lst[2].text.split('#')"
   ]
  },
  {
   "cell_type": "code",
   "execution_count": null,
   "metadata": {},
   "outputs": [],
   "source": []
  },
  {
   "cell_type": "code",
   "execution_count": null,
   "metadata": {},
   "outputs": [],
   "source": []
  },
  {
   "cell_type": "code",
   "execution_count": 308,
   "metadata": {},
   "outputs": [
    {
     "data": {
      "text/plain": [
       "{'formats': ['Autodesk 3ds Max',\n",
       "  'Autodesk FBX',\n",
       "  'OBJ',\n",
       "  '3D Studio',\n",
       "  'Stereolithography'],\n",
       " 'sizes': ['-', '45.8 MB', '45.8 MB', '45.8 MB', '-']}"
      ]
     },
     "execution_count": 308,
     "metadata": {},
     "output_type": "execute_result"
    }
   ],
   "source": [
    "get_model_formats(soup)"
   ]
  },
  {
   "cell_type": "code",
   "execution_count": 294,
   "metadata": {},
   "outputs": [],
   "source": [
    "test = soup.select('ul.info-list')[0]"
   ]
  },
  {
   "cell_type": "code",
   "execution_count": 298,
   "metadata": {},
   "outputs": [
    {
     "data": {
      "text/plain": [
       "['-', '45.8 MB', '45.8 MB', '45.8 MB', '-']"
      ]
     },
     "execution_count": 298,
     "metadata": {},
     "output_type": "execute_result"
    }
   ],
   "source": [
    "[x.text for x in test.select('.right-column')]"
   ]
  },
  {
   "cell_type": "code",
   "execution_count": 293,
   "metadata": {},
   "outputs": [
    {
     "data": {
      "text/plain": [
       "[]"
      ]
     },
     "execution_count": 293,
     "metadata": {},
     "output_type": "execute_result"
    }
   ],
   "source": [
    "test.select('.right-column right-column--narrow')"
   ]
  },
  {
   "cell_type": "code",
   "execution_count": 309,
   "metadata": {},
   "outputs": [
    {
     "data": {
      "text/plain": [
       "[<li><span class=\"js-format-link\">Autodesk 3ds Max</span> (.max) (2 files)<span class=\"right-column right-column--narrow\">-</span><span class=\"product-formats__version\">Version:  2014</span><span class=\"product-formats__renderer\">Renderer: V-Ray 3.2</span><span class=\"product-formats__version\">Version:  2011</span><span class=\"product-formats__renderer\">Renderer: V-Ray 3.2</span></li>,\n",
       " <li><span class=\"js-format-link\">Autodesk FBX</span> 2014 (.fbx)<span class=\"right-column right-column--narrow\">45.8 MB</span></li>,\n",
       " <li><span class=\"js-format-link\">OBJ</span> 2014 (.obj, .mtl)<span class=\"right-column right-column--narrow\">45.8 MB</span></li>,\n",
       " <li><span class=\"js-format-link\">3D Studio</span> 2014 (.3ds)<span class=\"right-column right-column--narrow\">45.8 MB</span></li>,\n",
       " <li><span class=\"js-format-link\">Stereolithography</span>  (.stl) <span class=\"right-column\">-</span><span class=\"js-track-link-near-formats-click js-auth-control\"><span data-react-cache-id=\"Items/ProductActionButton/ProductActionButton-0\" data-react-class=\"Items/ProductActionButton/ProductActionButton\" data-react-props='{\"title\":\"Contact for availability\",\"action\":\"openFileConversionModal\",\"itemId\":\"2383583\",\"isSignedIn\":false,\"isButton\":false}'></span></span> </li>]"
      ]
     },
     "execution_count": 309,
     "metadata": {},
     "output_type": "execute_result"
    }
   ],
   "source": [
    "ul.info-list:nth-child(2)"
   ]
  },
  {
   "cell_type": "code",
   "execution_count": 273,
   "metadata": {},
   "outputs": [
    {
     "data": {
      "text/plain": [
       "<span class=\"js-format-link\">3D Studio</span>"
      ]
     },
     "execution_count": 273,
     "metadata": {},
     "output_type": "execute_result"
    }
   ],
   "source": [
    "map(lambda x: (x.select('.js-format-link')[0].text,\n",
    "               x.select('get_model_formats(soup)[0]"
   ]
  },
  {
   "cell_type": "code",
   "execution_count": 117,
   "metadata": {},
   "outputs": [
    {
     "data": {
      "text/plain": [
       "['Autodesk 3ds Max (.max) (2 files)-Version:  2016Renderer: V-Ray Version:  2013Renderer: V-Ray ']"
      ]
     },
     "execution_count": 117,
     "metadata": {},
     "output_type": "execute_result"
    }
   ],
   "source": [
    "list(map(lambda x: x.text, get_model_details(soup)[0]))"
   ]
  },
  {
   "cell_type": "code",
   "execution_count": 124,
   "metadata": {},
   "outputs": [],
   "source": [
    "model_detail_section = soup.select('ul.info-list:nth-child(2)')[0]"
   ]
  },
  {
   "cell_type": "code",
   "execution_count": 135,
   "metadata": {},
   "outputs": [
    {
     "name": "stdout",
     "output_type": "stream",
     "text": [
      "Autodesk 3ds Max\n",
      "Version:  2016\n",
      "Renderer: V-Ray \n"
     ]
    }
   ],
   "source": [
    "print(model_detail_section.select('.js-format-link')[0].text)\n",
    "print(model_detail_section.select('.product-formats__version')[0].text)\n",
    "print(model_detail_section.select('.product-formats__renderer')[0].text)"
   ]
  },
  {
   "cell_type": "code",
   "execution_count": 144,
   "metadata": {},
   "outputs": [],
   "source": [
    "ul = soup.select('ul.info-list:nth-child(2)')[1]"
   ]
  },
  {
   "cell_type": "code",
   "execution_count": 158,
   "metadata": {},
   "outputs": [],
   "source": [
    "li=soup.select('ul.info-list:nth-child(2) > li:nth-child(1)')[-1]"
   ]
  },
  {
   "cell_type": "code",
   "execution_count": 168,
   "metadata": {
    "collapsed": true,
    "jupyter": {
     "outputs_hidden": true
    }
   },
   "outputs": [
    {
     "data": {
      "text/plain": [
       "<ul class=\"info-list\"><li>Publish date<span class=\"right-column\">2020-03-18</span><li>Model ID<span class=\"right-column\">#2320671</span></li></li><li>Animated <span class=\"u-float-right\"><span><i class=\"fal svg-inline--fa fa-times-circle is-red is-not-spaced right-column\"></i></span></span><div class=\"approve-buttons is-hidden js-auto-approve\"><input class=\"js-approve radio\" data-item=\"2320671\" id=\"button-approve-animated\" name=\"animated\" type=\"radio\" value=\"true\"/><label class=\"btn approve-button has-tooltip\" for=\"button-approve-animated\" title=\"Select to approve\">Approved</label><input checked=\"checked\" class=\"js-disapprove radio\" data-item=\"2320671\" id=\"button-disapprove-animated\" name=\"animated\" type=\"radio\" value=\"false\"/><label class=\"btn approve-button has-tooltip\" for=\"button-disapprove-animated\" title=\"Select to disapprove\">Disapproved</label></div></li><li>Rigged <span class=\"u-float-right\"><span><i class=\"fal svg-inline--fa fa-times-circle is-red is-not-spaced right-column\"></i></span></span><div class=\"approve-buttons is-hidden js-auto-approve\"><input class=\"js-approve radio\" data-item=\"2320671\" id=\"button-approve-rigged\" name=\"rigged\" type=\"radio\" value=\"true\"/><label class=\"btn approve-button has-tooltip\" for=\"button-approve-rigged\" title=\"Select to approve\">Approved</label><input checked=\"checked\" class=\"js-disapprove radio\" data-item=\"2320671\" id=\"button-disapprove-rigged\" name=\"rigged\" type=\"radio\" value=\"false\"/><label class=\"btn approve-button has-tooltip\" for=\"button-disapprove-rigged\" title=\"Select to disapprove\">Disapproved</label></div></li><li>VR / AR / Low-poly <span class=\"u-float-right\"><span><i class=\"fal svg-inline--fa fa-times-circle is-red is-not-spaced right-column\"></i></span></span><div class=\"approve-buttons is-hidden js-auto-approve\"><input class=\"js-approve radio\" data-item=\"2320671\" id=\"button-approve-game_ready\" name=\"game_ready\" type=\"radio\" value=\"true\"/><label class=\"btn approve-button has-tooltip\" for=\"button-approve-game_ready\" title=\"Select to approve\">Approved</label><input checked=\"checked\" class=\"js-disapprove radio\" data-item=\"2320671\" id=\"button-disapprove-game_ready\" name=\"game_ready\" type=\"radio\" value=\"false\"/><label class=\"btn approve-button has-tooltip\" for=\"button-disapprove-game_ready\" title=\"Select to disapprove\">Disapproved</label></div></li><li>PBR <span class=\"u-float-right\"><span><i class=\"fal svg-inline--fa fa-times-circle is-red is-not-spaced right-column\"></i></span></span><div class=\"approve-buttons is-hidden js-auto-approve\"><input class=\"js-approve radio\" data-item=\"2320671\" id=\"button-approve-pbr\" name=\"pbr\" type=\"radio\" value=\"true\"/><label class=\"btn approve-button has-tooltip\" for=\"button-approve-pbr\" title=\"Select to approve\">Approved</label><input checked=\"checked\" class=\"js-disapprove radio\" data-item=\"2320671\" id=\"button-disapprove-pbr\" name=\"pbr\" type=\"radio\" value=\"false\"/><label class=\"btn approve-button has-tooltip\" for=\"button-disapprove-pbr\" title=\"Select to disapprove\">Disapproved</label></div></li><li>Geometry <span class=\"u-float-right\"><span class=\"right-column\">Polygon mesh</span></span></li><li>Polygons <span class=\"u-float-right\"><span class=\"right-column\">185,576</span></span></li><li>Vertices <span class=\"u-float-right\"><span class=\"right-column\">286.540</span></span></li><li>Textures <span class=\"u-float-right\"><span><i class=\"fal svg-inline--fa fa-check-circle is-green is-not-spaced right-column\"></i></span></span></li><li>Materials <span class=\"u-float-right\"><span><i class=\"fal svg-inline--fa fa-check-circle is-green is-not-spaced right-column\"></i></span></span></li><li>UV Mapping <span class=\"u-float-right\"><span><i class=\"fal svg-inline--fa fa-check-circle is-green is-not-spaced right-column\"></i></span></span></li><li>Unwrapped UVs <span class=\"u-float-right\"><span class=\"right-column\">Unknown</span></span></li><li>Plugins used <span class=\"u-float-right\"><span><i class=\"fal svg-inline--fa fa-times-circle is-red is-not-spaced right-column\"></i></span></span></li></ul>"
      ]
     },
     "execution_count": 168,
     "metadata": {},
     "output_type": "execute_result"
    }
   ],
   "source": [
    "get_model_details(soup)[1]"
   ]
  },
  {
   "cell_type": "code",
   "execution_count": 178,
   "metadata": {},
   "outputs": [
    {
     "data": {
      "text/plain": [
       "<i class=\"fal svg-inline--fa fa-times-circle is-red is-not-spaced right-column\"></i>"
      ]
     },
     "execution_count": 178,
     "metadata": {},
     "output_type": "execute_result"
    }
   ],
   "source": [
    "soup.select('ul.info-list:nth-child(2) > li:nth-child(3) > span:nth-child(1) > span:nth-child(1) > i:nth-child(1)')[0]"
   ]
  },
  {
   "cell_type": "code",
   "execution_count": 194,
   "metadata": {
    "collapsed": true,
    "jupyter": {
     "outputs_hidden": true
    }
   },
   "outputs": [
    {
     "data": {
      "text/plain": [
       "[<li>Publish date<span class=\"right-column\">2020-03-18</span><li>Model ID<span class=\"right-column\">#2320671</span></li></li>,\n",
       " <li>Model ID<span class=\"right-column\">#2320671</span></li>,\n",
       " <li>Animated <span class=\"u-float-right\"><span><i class=\"fal svg-inline--fa fa-times-circle is-red is-not-spaced right-column\"></i></span></span><div class=\"approve-buttons is-hidden js-auto-approve\"><input class=\"js-approve radio\" data-item=\"2320671\" id=\"button-approve-animated\" name=\"animated\" type=\"radio\" value=\"true\"/><label class=\"btn approve-button has-tooltip\" for=\"button-approve-animated\" title=\"Select to approve\">Approved</label><input checked=\"checked\" class=\"js-disapprove radio\" data-item=\"2320671\" id=\"button-disapprove-animated\" name=\"animated\" type=\"radio\" value=\"false\"/><label class=\"btn approve-button has-tooltip\" for=\"button-disapprove-animated\" title=\"Select to disapprove\">Disapproved</label></div></li>,\n",
       " <li>Rigged <span class=\"u-float-right\"><span><i class=\"fal svg-inline--fa fa-times-circle is-red is-not-spaced right-column\"></i></span></span><div class=\"approve-buttons is-hidden js-auto-approve\"><input class=\"js-approve radio\" data-item=\"2320671\" id=\"button-approve-rigged\" name=\"rigged\" type=\"radio\" value=\"true\"/><label class=\"btn approve-button has-tooltip\" for=\"button-approve-rigged\" title=\"Select to approve\">Approved</label><input checked=\"checked\" class=\"js-disapprove radio\" data-item=\"2320671\" id=\"button-disapprove-rigged\" name=\"rigged\" type=\"radio\" value=\"false\"/><label class=\"btn approve-button has-tooltip\" for=\"button-disapprove-rigged\" title=\"Select to disapprove\">Disapproved</label></div></li>,\n",
       " <li>VR / AR / Low-poly <span class=\"u-float-right\"><span><i class=\"fal svg-inline--fa fa-times-circle is-red is-not-spaced right-column\"></i></span></span><div class=\"approve-buttons is-hidden js-auto-approve\"><input class=\"js-approve radio\" data-item=\"2320671\" id=\"button-approve-game_ready\" name=\"game_ready\" type=\"radio\" value=\"true\"/><label class=\"btn approve-button has-tooltip\" for=\"button-approve-game_ready\" title=\"Select to approve\">Approved</label><input checked=\"checked\" class=\"js-disapprove radio\" data-item=\"2320671\" id=\"button-disapprove-game_ready\" name=\"game_ready\" type=\"radio\" value=\"false\"/><label class=\"btn approve-button has-tooltip\" for=\"button-disapprove-game_ready\" title=\"Select to disapprove\">Disapproved</label></div></li>,\n",
       " <li>PBR <span class=\"u-float-right\"><span><i class=\"fal svg-inline--fa fa-times-circle is-red is-not-spaced right-column\"></i></span></span><div class=\"approve-buttons is-hidden js-auto-approve\"><input class=\"js-approve radio\" data-item=\"2320671\" id=\"button-approve-pbr\" name=\"pbr\" type=\"radio\" value=\"true\"/><label class=\"btn approve-button has-tooltip\" for=\"button-approve-pbr\" title=\"Select to approve\">Approved</label><input checked=\"checked\" class=\"js-disapprove radio\" data-item=\"2320671\" id=\"button-disapprove-pbr\" name=\"pbr\" type=\"radio\" value=\"false\"/><label class=\"btn approve-button has-tooltip\" for=\"button-disapprove-pbr\" title=\"Select to disapprove\">Disapproved</label></div></li>,\n",
       " <li>Geometry <span class=\"u-float-right\"><span class=\"right-column\">Polygon mesh</span></span></li>,\n",
       " <li>Polygons <span class=\"u-float-right\"><span class=\"right-column\">185,576</span></span></li>,\n",
       " <li>Vertices <span class=\"u-float-right\"><span class=\"right-column\">286.540</span></span></li>,\n",
       " <li>Textures <span class=\"u-float-right\"><span><i class=\"fal svg-inline--fa fa-check-circle is-green is-not-spaced right-column\"></i></span></span></li>,\n",
       " <li>Materials <span class=\"u-float-right\"><span><i class=\"fal svg-inline--fa fa-check-circle is-green is-not-spaced right-column\"></i></span></span></li>,\n",
       " <li>UV Mapping <span class=\"u-float-right\"><span><i class=\"fal svg-inline--fa fa-check-circle is-green is-not-spaced right-column\"></i></span></span></li>,\n",
       " <li>Unwrapped UVs <span class=\"u-float-right\"><span class=\"right-column\">Unknown</span></span></li>,\n",
       " <li>Plugins used <span class=\"u-float-right\"><span><i class=\"fal svg-inline--fa fa-times-circle is-red is-not-spaced right-column\"></i></span></span></li>]"
      ]
     },
     "execution_count": 194,
     "metadata": {},
     "output_type": "execute_result"
    }
   ],
   "source": [
    "soup.select('ul.info-list')[2].find_all('li')"
   ]
  },
  {
   "cell_type": "code",
   "execution_count": 188,
   "metadata": {},
   "outputs": [
    {
     "data": {
      "text/plain": [
       "True"
      ]
     },
     "execution_count": 188,
     "metadata": {},
     "output_type": "execute_result"
    }
   ],
   "source": [
    "def 'is-red' in soup.select('ul.info-list:nth-child(2) > li:nth-child(3) > span:nth-child(1) > span:nth-child(1) > i:nth-child(1)')[0].attrs.get('class')"
   ]
  },
  {
   "cell_type": "code",
   "execution_count": 173,
   "metadata": {},
   "outputs": [
    {
     "data": {
      "text/plain": [
       "[<i class=\"fal svg-inline--fa fa-check-circle is-green is-not-spaced right-column\"></i>]"
      ]
     },
     "execution_count": 173,
     "metadata": {},
     "output_type": "execute_result"
    }
   ],
   "source": [
    "soup.select('ul.info-list:nth-child(2) > li:nth-child(10) > span:nth-child(1) > span:nth-child(1) > i:nth-child(1)')"
   ]
  },
  {
   "cell_type": "code",
   "execution_count": 304,
   "metadata": {},
   "outputs": [],
   "source": [
    "model_detail_section = soup.select('ul.info-list:nth-child(2)')[0]"
   ]
  },
  {
   "cell_type": "code",
   "execution_count": 306,
   "metadata": {},
   "outputs": [
    {
     "data": {
      "text/plain": [
       "<ul class=\"info-list\"><li>Publish date<span class=\"right-column\">2020-04-23</span><li>Model ID<span class=\"right-column\">#2383583</span></li></li><li>Animated <span class=\"u-float-right\"><span><i class=\"fal svg-inline--fa fa-times-circle is-red is-not-spaced right-column\"></i></span></span><div class=\"approve-buttons is-hidden js-auto-approve\"><input class=\"js-approve radio\" data-item=\"2383583\" id=\"button-approve-animated\" name=\"animated\" type=\"radio\" value=\"true\"/><label class=\"btn approve-button has-tooltip\" for=\"button-approve-animated\" title=\"Select to approve\">Approved</label><input checked=\"checked\" class=\"js-disapprove radio\" data-item=\"2383583\" id=\"button-disapprove-animated\" name=\"animated\" type=\"radio\" value=\"false\"/><label class=\"btn approve-button has-tooltip\" for=\"button-disapprove-animated\" title=\"Select to disapprove\">Disapproved</label></div></li><li>Rigged <span class=\"u-float-right\"><span><i class=\"fal svg-inline--fa fa-times-circle is-red is-not-spaced right-column\"></i></span></span><div class=\"approve-buttons is-hidden js-auto-approve\"><input class=\"js-approve radio\" data-item=\"2383583\" id=\"button-approve-rigged\" name=\"rigged\" type=\"radio\" value=\"true\"/><label class=\"btn approve-button has-tooltip\" for=\"button-approve-rigged\" title=\"Select to approve\">Approved</label><input checked=\"checked\" class=\"js-disapprove radio\" data-item=\"2383583\" id=\"button-disapprove-rigged\" name=\"rigged\" type=\"radio\" value=\"false\"/><label class=\"btn approve-button has-tooltip\" for=\"button-disapprove-rigged\" title=\"Select to disapprove\">Disapproved</label></div></li><li>VR / AR / Low-poly <span class=\"u-float-right\"><span><i class=\"fal svg-inline--fa fa-times-circle is-red is-not-spaced right-column\"></i></span></span><div class=\"approve-buttons is-hidden js-auto-approve\"><input class=\"js-approve radio\" data-item=\"2383583\" id=\"button-approve-game_ready\" name=\"game_ready\" type=\"radio\" value=\"true\"/><label class=\"btn approve-button has-tooltip\" for=\"button-approve-game_ready\" title=\"Select to approve\">Approved</label><input checked=\"checked\" class=\"js-disapprove radio\" data-item=\"2383583\" id=\"button-disapprove-game_ready\" name=\"game_ready\" type=\"radio\" value=\"false\"/><label class=\"btn approve-button has-tooltip\" for=\"button-disapprove-game_ready\" title=\"Select to disapprove\">Disapproved</label></div></li><li>PBR <span class=\"u-float-right\"><span><i class=\"fal svg-inline--fa fa-times-circle is-red is-not-spaced right-column\"></i></span></span><div class=\"approve-buttons is-hidden js-auto-approve\"><input class=\"js-approve radio\" data-item=\"2383583\" id=\"button-approve-pbr\" name=\"pbr\" type=\"radio\" value=\"true\"/><label class=\"btn approve-button has-tooltip\" for=\"button-approve-pbr\" title=\"Select to approve\">Approved</label><input checked=\"checked\" class=\"js-disapprove radio\" data-item=\"2383583\" id=\"button-disapprove-pbr\" name=\"pbr\" type=\"radio\" value=\"false\"/><label class=\"btn approve-button has-tooltip\" for=\"button-disapprove-pbr\" title=\"Select to disapprove\">Disapproved</label></div></li><li>Geometry <span class=\"u-float-right\"><span class=\"right-column\">Polygon mesh</span></span></li><li>Polygons <span class=\"u-float-right\"><span class=\"right-column\">155,000</span></span></li><li>Vertices <span class=\"u-float-right\"><span class=\"right-column\">170,000</span></span></li><li>Textures <span class=\"u-float-right\"><span><i class=\"fal svg-inline--fa fa-check-circle is-green is-not-spaced right-column\"></i></span></span></li><li>Materials <span class=\"u-float-right\"><span><i class=\"fal svg-inline--fa fa-check-circle is-green is-not-spaced right-column\"></i></span></span></li><li>UV Mapping <span class=\"u-float-right\"><span><i class=\"fal svg-inline--fa fa-check-circle is-green is-not-spaced right-column\"></i></span></span></li><li>Unwrapped UVs <span class=\"u-float-right\"><span>Non-overlapping</span></span></li><li>Plugins used <span class=\"u-float-right\"><span><i class=\"fal svg-inline--fa fa-check-circle is-green is-not-spaced right-column\"></i></span></span></li></ul>"
      ]
     },
     "execution_count": 306,
     "metadata": {},
     "output_type": "execute_result"
    }
   ],
   "source": [
    "model_detail_section"
   ]
  },
  {
   "cell_type": "code",
   "execution_count": 305,
   "metadata": {},
   "outputs": [
    {
     "data": {
      "text/plain": [
       "[]"
      ]
     },
     "execution_count": 305,
     "metadata": {},
     "output_type": "execute_result"
    }
   ],
   "source": [
    "model_detail_section.select('.js-format-link')"
   ]
  },
  {
   "cell_type": "code",
   "execution_count": 301,
   "metadata": {},
   "outputs": [
    {
     "ename": "AttributeError",
     "evalue": "ResultSet object has no attribute 'select'. You're probably treating a list of elements like a single element. Did you call find_all() when you meant to call find()?",
     "output_type": "error",
     "traceback": [
      "\u001b[1;31m---------------------------------------------------------------------------\u001b[0m",
      "\u001b[1;31mAttributeError\u001b[0m                            Traceback (most recent call last)",
      "\u001b[1;32m<ipython-input-301-0eb0ffc1854f>\u001b[0m in \u001b[0;36m<module>\u001b[1;34m\u001b[0m\n\u001b[0;32m      1\u001b[0m \u001b[0mmodel_detail_section\u001b[0m \u001b[1;33m=\u001b[0m \u001b[0msoup\u001b[0m\u001b[1;33m.\u001b[0m\u001b[0mselect\u001b[0m\u001b[1;33m(\u001b[0m\u001b[1;34m'ul.info-list:nth-child(2)'\u001b[0m\u001b[1;33m)\u001b[0m\u001b[1;33m\u001b[0m\u001b[1;33m\u001b[0m\u001b[0m\n\u001b[1;32m----> 2\u001b[1;33m \u001b[0mmodel_detail_section\u001b[0m\u001b[1;33m.\u001b[0m\u001b[0mselect\u001b[0m\u001b[1;33m(\u001b[0m\u001b[1;34m'.js-format-link'\u001b[0m\u001b[1;33m)\u001b[0m\u001b[1;33m\u001b[0m\u001b[1;33m\u001b[0m\u001b[0m\n\u001b[0m\u001b[0;32m      3\u001b[0m \u001b[1;33m[\u001b[0m\u001b[0mx\u001b[0m\u001b[1;33m.\u001b[0m\u001b[0mtext\u001b[0m \u001b[1;32mfor\u001b[0m \u001b[0mx\u001b[0m \u001b[1;32min\u001b[0m \u001b[0mmodel_detail_section\u001b[0m\u001b[1;33m[\u001b[0m\u001b[1;36m0\u001b[0m\u001b[1;33m]\u001b[0m\u001b[1;33m[\u001b[0m\u001b[1;36m1\u001b[0m\u001b[1;33m]\u001b[0m\u001b[1;33m.\u001b[0m\u001b[0mselect\u001b[0m\u001b[1;33m(\u001b[0m\u001b[1;34m'.right-column'\u001b[0m\u001b[1;33m)\u001b[0m\u001b[1;33m]\u001b[0m\u001b[1;33m\u001b[0m\u001b[1;33m\u001b[0m\u001b[0m\n",
      "\u001b[1;32m~\\Anaconda3\\envs\\new\\lib\\site-packages\\bs4\\element.py\u001b[0m in \u001b[0;36m__getattr__\u001b[1;34m(self, key)\u001b[0m\n\u001b[0;32m   2159\u001b[0m         \u001b[1;34m\"\"\"Raise a helpful exception to explain a common code fix.\"\"\"\u001b[0m\u001b[1;33m\u001b[0m\u001b[1;33m\u001b[0m\u001b[0m\n\u001b[0;32m   2160\u001b[0m         raise AttributeError(\n\u001b[1;32m-> 2161\u001b[1;33m             \u001b[1;34m\"ResultSet object has no attribute '%s'. You're probably treating a list of elements like a single element. Did you call find_all() when you meant to call find()?\"\u001b[0m \u001b[1;33m%\u001b[0m \u001b[0mkey\u001b[0m\u001b[1;33m\u001b[0m\u001b[1;33m\u001b[0m\u001b[0m\n\u001b[0m\u001b[0;32m   2162\u001b[0m         )\n",
      "\u001b[1;31mAttributeError\u001b[0m: ResultSet object has no attribute 'select'. You're probably treating a list of elements like a single element. Did you call find_all() when you meant to call find()?"
     ]
    }
   ],
   "source": [
    "[x.text for x in model_detail_section[0][1].select('.right-column')]"
   ]
  },
  {
   "cell_type": "code",
   "execution_count": 169,
   "metadata": {},
   "outputs": [
    {
     "data": {
      "text/plain": [
       "['2020-03-18',\n",
       " '#2320671',\n",
       " '',\n",
       " '',\n",
       " '',\n",
       " '',\n",
       " 'Polygon mesh',\n",
       " '185,576',\n",
       " '286.540',\n",
       " '',\n",
       " '',\n",
       " '',\n",
       " 'Unknown',\n",
       " '']"
      ]
     },
     "execution_count": 169,
     "metadata": {},
     "output_type": "execute_result"
    }
   ],
   "source": [
    "[x.text for x in get_model_details(soup)[1].select('.right-column')]"
   ]
  },
  {
   "cell_type": "code",
   "execution_count": 165,
   "metadata": {},
   "outputs": [
    {
     "data": {
      "text/plain": [
       "['Publish date2020-03-18Model ID#2320671',\n",
       " 'Animated ApprovedDisapproved',\n",
       " 'Rigged ApprovedDisapproved',\n",
       " 'VR / AR / Low-poly ApprovedDisapproved',\n",
       " 'PBR ApprovedDisapproved',\n",
       " 'Geometry Polygon mesh',\n",
       " 'Polygons 185,576',\n",
       " 'Vertices 286.540',\n",
       " 'Textures ',\n",
       " 'Materials ',\n",
       " 'UV Mapping ',\n",
       " 'Unwrapped UVs Unknown',\n",
       " 'Plugins used ']"
      ]
     },
     "execution_count": 165,
     "metadata": {},
     "output_type": "execute_result"
    }
   ],
   "source": [
    "list(map(lambda x: x.text, get_model_details(soup)[1]))"
   ]
  },
  {
   "cell_type": "code",
   "execution_count": 299,
   "metadata": {},
   "outputs": [
    {
     "name": "stdout",
     "output_type": "stream",
     "text": [
      "{'comments': {'authors': ['renderee',\n",
      "                          'kmutlu',\n",
      "                          'ViTrend',\n",
      "                          'bbaltatsar',\n",
      "                          'jd94'],\n",
      "              'datetimes': [datetime.datetime(2020, 4, 23, 8, 32),\n",
      "                            datetime.datetime(2020, 4, 23, 18, 12),\n",
      "                            datetime.datetime(2020, 6, 23, 8, 47),\n",
      "                            datetime.datetime(2020, 6, 26, 16, 54),\n",
      "                            datetime.datetime(2020, 6, 27, 10, 44)],\n",
      "              'texts': ['good job', 'nice', 'pretty', 'nice', 'awesome work!']},\n",
      " 'modeler': '3d-vlad',\n",
      " 'pic_count': 19,\n",
      " 'price': '$6.00',\n",
      " 'tags': ['ceiling',\n",
      "          'bamboo',\n",
      "          'branch',\n",
      "          'tree',\n",
      "          'decor',\n",
      "          'wall',\n",
      "          'panel',\n",
      "          'binder',\n",
      "          'cane',\n",
      "          'post',\n",
      "          'plant',\n",
      "          'stalk',\n",
      "          'restaurant',\n",
      "          'bough',\n",
      "          'wickerwork',\n",
      "          'sang',\n",
      "          'wood',\n",
      "          'architectural',\n",
      "          'decoration'],\n",
      " 'views': 28}\n"
     ]
    }
   ],
   "source": [
    "pprint({\n",
    "    'modeler':get_modeler(soup),\n",
    "    'tags':get_tags(soup),\n",
    "    'views':get_likes(soup),\n",
    "    'comments':get_comments(soup),\n",
    "    'price':get_price(soup),\n",
    "    'pic_count':get_pic_count(soup)\n",
    "})"
   ]
  },
  {
   "cell_type": "code",
   "execution_count": null,
   "metadata": {},
   "outputs": [],
   "source": []
  },
  {
   "cell_type": "code",
   "execution_count": null,
   "metadata": {},
   "outputs": [],
   "source": []
  },
  {
   "cell_type": "code",
   "execution_count": null,
   "metadata": {},
   "outputs": [],
   "source": []
  }
 ],
 "metadata": {
  "kernelspec": {
   "display_name": "Python 3",
   "language": "python",
   "name": "python3"
  },
  "language_info": {
   "codemirror_mode": {
    "name": "ipython",
    "version": 3
   },
   "file_extension": ".py",
   "mimetype": "text/x-python",
   "name": "python",
   "nbconvert_exporter": "python",
   "pygments_lexer": "ipython3",
   "version": "3.7.7"
  }
 },
 "nbformat": 4,
 "nbformat_minor": 4
}
